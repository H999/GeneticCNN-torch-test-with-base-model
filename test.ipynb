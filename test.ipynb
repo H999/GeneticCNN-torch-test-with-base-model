{
 "metadata": {
  "language_info": {
   "codemirror_mode": {
    "name": "ipython",
    "version": 3
   },
   "file_extension": ".py",
   "mimetype": "text/x-python",
   "name": "python",
   "nbconvert_exporter": "python",
   "pygments_lexer": "ipython3",
   "version": "3.8.5"
  },
  "orig_nbformat": 4,
  "kernelspec": {
   "name": "python3",
   "display_name": "Python 3.8.5 64-bit"
  },
  "interpreter": {
   "hash": "fbe73729ce93a3700bf81dffff7c8f5a6bd5e733a33f71516d5cf43652445aba"
  }
 },
 "nbformat": 4,
 "nbformat_minor": 2,
 "cells": [
  {
   "cell_type": "markdown",
   "source": [
    "# if run on colab for test"
   ],
   "metadata": {}
  },
  {
   "cell_type": "code",
   "execution_count": 1,
   "source": [
    "# !git clone https://github.com/H999/GeneticCNN-torch-test-with-base-model.git\r\n",
    "# %cd GeneticCNN-torch/"
   ],
   "outputs": [],
   "metadata": {}
  },
  {
   "cell_type": "markdown",
   "source": [
    "# import"
   ],
   "metadata": {}
  },
  {
   "cell_type": "code",
   "execution_count": 2,
   "source": [
    "import torch\r\n",
    "import random\r\n",
    "import numpy as np\r\n",
    "import torchvision\r\n",
    "import pandas as pd\r\n",
    "import torch.nn as nn\r\n",
    "import torch.nn.functional as F\r\n",
    "from pathlib import Path\r\n",
    "from tqdm.auto import tqdm\r\n",
    "from torchvision import datasets, transforms\r\n",
    "from torch.utils.tensorboard import SummaryWriter\r\n",
    "\r\n",
    "from lib.save_Individual import save_Individual\r\n",
    "from lib.load_Individual import load_Individual\r\n",
    "from lib.train_Individual import train_Individual\r\n",
    "\r\n",
    "from lib.train_Individual import test\r\n",
    "\r\n",
    "device = torch.device(\"cuda:0\" if torch.cuda.is_available() else \"cpu\")\r\n",
    "batch_size = 64\r\n",
    "\r\n",
    "transform = transforms.Compose([transforms.ToTensor(), transforms.Normalize((0.5,), (0.5,))])\r\n",
    "trainset = datasets.MNIST('data', train=True, download=True, transform=transform)\r\n",
    "testset = datasets.MNIST('data', train=False, download=True, transform=transform)\r\n",
    "\r\n",
    "train_loader = torch.utils.data.DataLoader(trainset, batch_size=batch_size, shuffle=True)\r\n",
    "test_loader = torch.utils.data.DataLoader(testset, batch_size=batch_size, shuffle=True)\r\n",
    "\r\n",
    "\r\n",
    "def length(x): return len(x) * x.batch_size\r\n",
    "\r\n",
    "\r\n",
    "print(\"Total train examples: \", length(train_loader))\r\n",
    "print(\"Total test examples: \", length(test_loader))"
   ],
   "outputs": [
    {
     "output_type": "stream",
     "name": "stderr",
     "text": [
      "C:\\Users\\HH\\AppData\\Local\\Programs\\Python\\Python38\\lib\\site-packages\\numpy\\_distributor_init.py:30: UserWarning: loaded more than 1 DLL from .libs:\n",
      "C:\\Users\\HH\\AppData\\Local\\Programs\\Python\\Python38\\lib\\site-packages\\numpy\\.libs\\libopenblas.WCDJNK7YVMPZQ2ME2ZZHJJRJ3JIKNDB7.gfortran-win_amd64.dll\n",
      "C:\\Users\\HH\\AppData\\Local\\Programs\\Python\\Python38\\lib\\site-packages\\numpy\\.libs\\libopenblas.XWYDX2IKJW2NMTWSFYNGFUWKQU3LYTCZ.gfortran-win_amd64.dll\n",
      "  warnings.warn(\"loaded more than 1 DLL from .libs:\"\n"
     ]
    },
    {
     "output_type": "stream",
     "name": "stdout",
     "text": [
      "Total train examples:  60032\n",
      "Total test examples:  10048\n"
     ]
    }
   ],
   "metadata": {}
  },
  {
   "cell_type": "code",
   "execution_count": 3,
   "source": [
    "def set_seed(seed):\r\n",
    "    # Set random seed for reproducibility\r\n",
    "    random.seed(seed)\r\n",
    "    np.random.seed(seed)\r\n",
    "    torch.manual_seed(seed)\r\n",
    "\r\n",
    "    if torch.cuda.is_available():\r\n",
    "        torch.cuda.manual_seed(seed)\r\n",
    "        torch.cuda.manual_seed_all(seed)\r\n",
    "        torch.backends.cudnn.deterministic = True\r\n",
    "        torch.backends.cudnn.benchmark = True\r\n",
    "\r\n",
    "\r\n",
    "seed = 1234\r\n",
    "set_seed(seed)"
   ],
   "outputs": [],
   "metadata": {}
  },
  {
   "cell_type": "markdown",
   "source": [
    "# class Individual"
   ],
   "metadata": {}
  },
  {
   "cell_type": "code",
   "execution_count": 4,
   "source": [
    "from geneticCNN.Individual import Individual"
   ],
   "outputs": [],
   "metadata": {}
  },
  {
   "cell_type": "markdown",
   "source": [
    "# Train & test model for Individual"
   ],
   "metadata": {}
  },
  {
   "cell_type": "markdown",
   "source": [
    "## init model base"
   ],
   "metadata": {}
  },
  {
   "cell_type": "code",
   "execution_count": 5,
   "source": [
    "EPOCHS = 5"
   ],
   "outputs": [],
   "metadata": {}
  },
  {
   "cell_type": "code",
   "execution_count": 6,
   "source": [
    "a = Individual((3, 5), ('111','1111111111'))\r\n",
    "optimizer = torch.optim.SGD(a.parameters(), lr=0.01, momentum=0.9)\r\n",
    "scheduler = torch.optim.lr_scheduler.ExponentialLR(optimizer, gamma=0.95)"
   ],
   "outputs": [],
   "metadata": {}
  },
  {
   "cell_type": "markdown",
   "source": [
    "## test model base without train"
   ],
   "metadata": {}
  },
  {
   "cell_type": "code",
   "execution_count": 7,
   "source": [
    "a.to(device)\r\n",
    "test(a, device, test_loader, F.nll_loss, 1, True)"
   ],
   "outputs": [
    {
     "output_type": "stream",
     "name": "stderr",
     "text": [
      "Test Epoch 1:   0%|          | 0/157 [00:00<?, ?it/s]C:\\Users\\HH\\AppData\\Local\\Programs\\Python\\Python38\\lib\\site-packages\\torch\\nn\\functional.py:718: UserWarning: Named tensors and all their associated APIs are an experimental feature and subject to change. Please do not use them for anything important until they are released as stable. (Triggered internally at  ..\\c10/core/TensorImpl.h:1156.)\n",
      "  return torch.max_pool2d(input, kernel_size, stride, padding, dilation, ceil_mode)\n",
      "                                                               "
     ]
    },
    {
     "output_type": "stream",
     "name": "stdout",
     "text": [
      "\n",
      "Test Epoch 1: Average loss: 2.30390558, Accuracy: 933/10000 (9.3300%)\n",
      "\n"
     ]
    },
    {
     "output_type": "stream",
     "name": "stderr",
     "text": []
    },
    {
     "output_type": "execute_result",
     "data": {
      "text/plain": [
       "(0.0933, 2.303905583190918)"
      ]
     },
     "metadata": {},
     "execution_count": 7
    }
   ],
   "metadata": {}
  },
  {
   "cell_type": "markdown",
   "source": [
    "## train and test model base"
   ],
   "metadata": {}
  },
  {
   "cell_type": "code",
   "execution_count": 8,
   "source": [
    "if Path('model.pt').exists():\r\n",
    "    a, optimizer, scheduler = load_Individual()\r\n",
    "    print('load model from model.pt')\r\n",
    "else:\r\n",
    "    train_Individual(a, device, train_loader, test_loader, optimizer, F.nll_loss, scheduler, EPOCHS, True)\r\n",
    "    save_Individual(a, optimizer, scheduler)\r\n",
    "    print('save model to model.pt')"
   ],
   "outputs": [
    {
     "output_type": "stream",
     "name": "stderr",
     "text": [
      " 20%|██        | 1/5 [01:43<06:52, 103.21s/it]"
     ]
    },
    {
     "output_type": "stream",
     "name": "stdout",
     "text": [
      "\n",
      "Test Epoch 0: Average loss: 0.08997493, Accuracy: 9732/10000 (97.3200%)\n",
      "\n"
     ]
    },
    {
     "output_type": "stream",
     "name": "stderr",
     "text": [
      " 40%|████      | 2/5 [03:26<05:09, 103.18s/it]"
     ]
    },
    {
     "output_type": "stream",
     "name": "stdout",
     "text": [
      "\n",
      "Test Epoch 1: Average loss: 0.06339527, Accuracy: 9837/10000 (98.3700%)\n",
      "\n"
     ]
    },
    {
     "output_type": "stream",
     "name": "stderr",
     "text": [
      " 60%|██████    | 3/5 [05:10<03:27, 103.64s/it]"
     ]
    },
    {
     "output_type": "stream",
     "name": "stdout",
     "text": [
      "\n",
      "Test Epoch 2: Average loss: 0.03867957, Accuracy: 9889/10000 (98.8900%)\n",
      "\n"
     ]
    },
    {
     "output_type": "stream",
     "name": "stderr",
     "text": [
      " 80%|████████  | 4/5 [06:52<01:42, 102.89s/it]"
     ]
    },
    {
     "output_type": "stream",
     "name": "stdout",
     "text": [
      "\n",
      "Test Epoch 3: Average loss: 0.03052328, Accuracy: 9914/10000 (99.1400%)\n",
      "\n"
     ]
    },
    {
     "output_type": "stream",
     "name": "stderr",
     "text": []
    },
    {
     "output_type": "stream",
     "name": "stdout",
     "text": [
      "\n",
      "Test Epoch 4: Average loss: 0.03284622, Accuracy: 9913/10000 (99.1300%)\n",
      "\n",
      "save model to model.pt\n"
     ]
    }
   ],
   "metadata": {}
  },
  {
   "cell_type": "code",
   "execution_count": 9,
   "source": [
    "test(a, device, test_loader, F.nll_loss, 1, True)"
   ],
   "outputs": [
    {
     "output_type": "stream",
     "name": "stderr",
     "text": [
      "                                                               "
     ]
    },
    {
     "output_type": "stream",
     "name": "stdout",
     "text": [
      "\n",
      "Test Epoch 1: Average loss: 0.03284622, Accuracy: 9913/10000 (99.1300%)\n",
      "\n"
     ]
    },
    {
     "output_type": "stream",
     "name": "stderr",
     "text": []
    },
    {
     "output_type": "execute_result",
     "data": {
      "text/plain": [
       "(0.9913, 0.03284622202506289)"
      ]
     },
     "metadata": {},
     "execution_count": 9
    }
   ],
   "metadata": {}
  },
  {
   "cell_type": "markdown",
   "source": [
    "## test with different architecture model base weight"
   ],
   "metadata": {}
  },
  {
   "cell_type": "code",
   "execution_count": 14,
   "source": [
    "if Path('log.csv').exists():\r\n",
    "    df = pd.read_csv('log.csv')\r\n",
    "    print('load log.csv file to read/save test result')\r\n",
    "else:\r\n",
    "    df = pd.DataFrame(columns=['model tuple', 'gen', 'test result'])\r\n",
    "    print('create log.csv file to save test result')\r\n",
    "\r\n",
    "for i in range(3, 8):\r\n",
    "    for j in range(1, 1024):\r\n",
    "\r\n",
    "# for i in range(1023, 0, -1):\r\n",
    "#     for j in range(7, 0, -1):\r\n",
    "\r\n",
    "# for i in range(7, 0, -1):\r\n",
    "#     for j in range(1023, 0, -1):\r\n",
    "        print(\"\\n===================\\n\")\r\n",
    "        check = np.where(df['model tuple'] == str((\"{0:03b}\".format(i), \"{0:010b}\".format(j))))[0]\r\n",
    "        if len(check) == 1:\r\n",
    "            print(df.loc[check[0]]['gen'], '\\n')\r\n",
    "            print(df.loc[check[0]]['test result'], '\\n')\r\n",
    "        else:\r\n",
    "            a.Stages.update_stages_state((\"{0:03b}\".format(i), \"{0:010b}\".format(j)))\r\n",
    "            print(a.Stages.gen_model)\r\n",
    "            df = df.append(\r\n",
    "                {\r\n",
    "                    'model tuple': a.Stages.gen,\r\n",
    "                    'gen': a.Stages.gen_model,\r\n",
    "                    'test result': (test(a, device, test_loader, F.nll_loss, 1, True))\r\n",
    "                }, ignore_index=True)\r\n",
    "            df.to_csv('log.csv', index=False)"
   ],
   "outputs": [
    {
     "output_type": "stream",
     "name": "stdout",
     "text": [
      "load log.csv file to read/save test result\n",
      "\n",
      "===================\n",
      "\n",
      "{'S_1': '0-11', 'S_2': '0-00-000-0001'}\n"
     ]
    },
    {
     "output_type": "stream",
     "name": "stderr",
     "text": []
    },
    {
     "output_type": "stream",
     "name": "stdout",
     "text": [
      "\n",
      "Test Epoch 1: Average loss: 2.30433640, Accuracy: 923/10000 (9.2300%)\n",
      "\n",
      "\n",
      "===================\n",
      "\n",
      "{'S_1': '0-11', 'S_2': '0-00-000-0010'}\n"
     ]
    },
    {
     "output_type": "stream",
     "name": "stderr",
     "text": []
    },
    {
     "output_type": "stream",
     "name": "stdout",
     "text": [
      "\n",
      "Test Epoch 1: Average loss: 2.30658837, Accuracy: 592/10000 (5.9200%)\n",
      "\n",
      "\n",
      "===================\n",
      "\n",
      "{'S_1': '0-11', 'S_2': '0-00-000-0011'}\n"
     ]
    },
    {
     "output_type": "stream",
     "name": "stderr",
     "text": []
    },
    {
     "output_type": "stream",
     "name": "stdout",
     "text": [
      "\n",
      "Test Epoch 1: Average loss: 2.30380268, Accuracy: 939/10000 (9.3900%)\n",
      "\n",
      "\n",
      "===================\n",
      "\n",
      "{'S_1': '0-11', 'S_2': '0-00-000-0100'}\n"
     ]
    },
    {
     "output_type": "stream",
     "name": "stderr",
     "text": []
    },
    {
     "output_type": "stream",
     "name": "stdout",
     "text": [
      "\n",
      "Test Epoch 1: Average loss: 2.32056881, Accuracy: 794/10000 (7.9400%)\n",
      "\n",
      "\n",
      "===================\n",
      "\n",
      "{'S_1': '0-11', 'S_2': '0-00-000-0101'}\n"
     ]
    },
    {
     "output_type": "stream",
     "name": "stderr",
     "text": []
    },
    {
     "output_type": "stream",
     "name": "stdout",
     "text": [
      "\n",
      "Test Epoch 1: Average loss: 2.31476290, Accuracy: 834/10000 (8.3400%)\n",
      "\n",
      "\n",
      "===================\n",
      "\n",
      "{'S_1': '0-11', 'S_2': '0-00-000-0110'}\n"
     ]
    },
    {
     "output_type": "stream",
     "name": "stderr",
     "text": []
    },
    {
     "output_type": "stream",
     "name": "stdout",
     "text": [
      "\n",
      "Test Epoch 1: Average loss: 2.31349915, Accuracy: 844/10000 (8.4400%)\n",
      "\n",
      "\n",
      "===================\n",
      "\n",
      "{'S_1': '0-11', 'S_2': '0-00-000-0111'}\n"
     ]
    },
    {
     "output_type": "stream",
     "name": "stderr",
     "text": []
    },
    {
     "output_type": "stream",
     "name": "stdout",
     "text": [
      "\n",
      "Test Epoch 1: Average loss: 2.31089267, Accuracy: 862/10000 (8.6200%)\n",
      "\n",
      "\n",
      "===================\n",
      "\n",
      "{'S_1': '0-11', 'S_2': '0-00-000-1000'}\n"
     ]
    },
    {
     "output_type": "stream",
     "name": "stderr",
     "text": []
    },
    {
     "output_type": "stream",
     "name": "stdout",
     "text": [
      "\n",
      "Test Epoch 1: Average loss: 0.04783118, Accuracy: 9859/10000 (98.5900%)\n",
      "\n",
      "\n",
      "===================\n",
      "\n",
      "{'S_1': '0-11', 'S_2': '0-00-000-1001'}\n"
     ]
    },
    {
     "output_type": "stream",
     "name": "stderr",
     "text": []
    },
    {
     "output_type": "stream",
     "name": "stdout",
     "text": [
      "\n",
      "Test Epoch 1: Average loss: 0.04811781, Accuracy: 9855/10000 (98.5500%)\n",
      "\n",
      "\n",
      "===================\n",
      "\n",
      "{'S_1': '0-11', 'S_2': '0-00-000-1010'}\n"
     ]
    },
    {
     "output_type": "stream",
     "name": "stderr",
     "text": []
    },
    {
     "output_type": "stream",
     "name": "stdout",
     "text": [
      "\n",
      "Test Epoch 1: Average loss: 0.04858886, Accuracy: 9854/10000 (98.5400%)\n",
      "\n",
      "\n",
      "===================\n",
      "\n",
      "{'S_1': '0-11', 'S_2': '0-00-000-1011'}\n"
     ]
    },
    {
     "output_type": "stream",
     "name": "stderr",
     "text": []
    },
    {
     "output_type": "stream",
     "name": "stdout",
     "text": [
      "\n",
      "Test Epoch 1: Average loss: 0.04893066, Accuracy: 9853/10000 (98.5300%)\n",
      "\n",
      "\n",
      "===================\n",
      "\n",
      "{'S_1': '0-11', 'S_2': '0-00-000-1100'}\n"
     ]
    },
    {
     "output_type": "stream",
     "name": "stderr",
     "text": []
    },
    {
     "output_type": "stream",
     "name": "stdout",
     "text": [
      "\n",
      "Test Epoch 1: Average loss: 0.04813791, Accuracy: 9858/10000 (98.5800%)\n",
      "\n",
      "\n",
      "===================\n",
      "\n",
      "{'S_1': '0-11', 'S_2': '0-00-000-1101'}\n"
     ]
    },
    {
     "output_type": "stream",
     "name": "stderr",
     "text": []
    },
    {
     "output_type": "stream",
     "name": "stdout",
     "text": [
      "\n",
      "Test Epoch 1: Average loss: 0.04847914, Accuracy: 9854/10000 (98.5400%)\n",
      "\n",
      "\n",
      "===================\n",
      "\n",
      "{'S_1': '0-11', 'S_2': '0-00-000-1110'}\n"
     ]
    },
    {
     "output_type": "stream",
     "name": "stderr",
     "text": []
    },
    {
     "output_type": "stream",
     "name": "stdout",
     "text": [
      "\n",
      "Test Epoch 1: Average loss: 0.04895636, Accuracy: 9855/10000 (98.5500%)\n",
      "\n",
      "\n",
      "===================\n",
      "\n",
      "{'S_1': '0-11', 'S_2': '0-00-000-1111'}\n"
     ]
    },
    {
     "output_type": "stream",
     "name": "stderr",
     "text": []
    },
    {
     "output_type": "stream",
     "name": "stdout",
     "text": [
      "\n",
      "Test Epoch 1: Average loss: 0.04935982, Accuracy: 9853/10000 (98.5300%)\n",
      "\n",
      "\n",
      "===================\n",
      "\n",
      "{'S_1': '0-11', 'S_2': '0-00-001-0000'}\n"
     ]
    },
    {
     "output_type": "stream",
     "name": "stderr",
     "text": []
    },
    {
     "output_type": "stream",
     "name": "stdout",
     "text": [
      "\n",
      "Test Epoch 1: Average loss: 2.30222263, Accuracy: 1056/10000 (10.5600%)\n",
      "\n",
      "\n",
      "===================\n",
      "\n",
      "{'S_1': '0-11', 'S_2': '0-00-001-0001'}\n"
     ]
    },
    {
     "output_type": "stream",
     "name": "stderr",
     "text": []
    },
    {
     "output_type": "stream",
     "name": "stdout",
     "text": [
      "\n",
      "Test Epoch 1: Average loss: 2.30373863, Accuracy: 951/10000 (9.5100%)\n",
      "\n",
      "\n",
      "===================\n",
      "\n",
      "{'S_1': '0-11', 'S_2': '0-00-001-0010'}\n"
     ]
    },
    {
     "output_type": "stream",
     "name": "stderr",
     "text": []
    },
    {
     "output_type": "stream",
     "name": "stdout",
     "text": [
      "\n",
      "Test Epoch 1: Average loss: 2.30480338, Accuracy: 684/10000 (6.8400%)\n",
      "\n",
      "\n",
      "===================\n",
      "\n",
      "{'S_1': '0-11', 'S_2': '0-00-001-0011'}\n"
     ]
    },
    {
     "output_type": "stream",
     "name": "stderr",
     "text": []
    },
    {
     "output_type": "stream",
     "name": "stdout",
     "text": [
      "\n",
      "Test Epoch 1: Average loss: 2.30385063, Accuracy: 830/10000 (8.3000%)\n",
      "\n",
      "\n",
      "===================\n",
      "\n",
      "{'S_1': '0-11', 'S_2': '0-00-001-0100'}\n"
     ]
    },
    {
     "output_type": "stream",
     "name": "stderr",
     "text": []
    },
    {
     "output_type": "stream",
     "name": "stdout",
     "text": [
      "\n",
      "Test Epoch 1: Average loss: 2.32095742, Accuracy: 704/10000 (7.0400%)\n",
      "\n",
      "\n",
      "===================\n",
      "\n",
      "{'S_1': '0-11', 'S_2': '0-00-001-0101'}\n"
     ]
    },
    {
     "output_type": "stream",
     "name": "stderr",
     "text": []
    },
    {
     "output_type": "stream",
     "name": "stdout",
     "text": [
      "\n",
      "Test Epoch 1: Average loss: 2.31271779, Accuracy: 870/10000 (8.7000%)\n",
      "\n",
      "\n",
      "===================\n",
      "\n",
      "{'S_1': '0-11', 'S_2': '0-00-001-0110'}\n"
     ]
    },
    {
     "output_type": "stream",
     "name": "stderr",
     "text": []
    },
    {
     "output_type": "stream",
     "name": "stdout",
     "text": [
      "\n",
      "Test Epoch 1: Average loss: 2.31477508, Accuracy: 861/10000 (8.6100%)\n",
      "\n",
      "\n",
      "===================\n",
      "\n",
      "{'S_1': '0-11', 'S_2': '0-00-001-0111'}\n"
     ]
    },
    {
     "output_type": "stream",
     "name": "stderr",
     "text": []
    },
    {
     "output_type": "stream",
     "name": "stdout",
     "text": [
      "\n",
      "Test Epoch 1: Average loss: 2.30970301, Accuracy: 865/10000 (8.6500%)\n",
      "\n",
      "\n",
      "===================\n",
      "\n",
      "{'S_1': '0-11', 'S_2': '0-00-001-1000'}\n"
     ]
    },
    {
     "output_type": "stream",
     "name": "stderr",
     "text": []
    },
    {
     "output_type": "stream",
     "name": "stdout",
     "text": [
      "\n",
      "Test Epoch 1: Average loss: 0.04783532, Accuracy: 9859/10000 (98.5900%)\n",
      "\n",
      "\n",
      "===================\n",
      "\n",
      "{'S_1': '0-11', 'S_2': '0-00-001-1001'}\n"
     ]
    },
    {
     "output_type": "stream",
     "name": "stderr",
     "text": []
    },
    {
     "output_type": "stream",
     "name": "stdout",
     "text": [
      "\n",
      "Test Epoch 1: Average loss: 0.04815489, Accuracy: 9857/10000 (98.5700%)\n",
      "\n",
      "\n",
      "===================\n",
      "\n",
      "{'S_1': '0-11', 'S_2': '0-00-001-1010'}\n"
     ]
    },
    {
     "output_type": "stream",
     "name": "stderr",
     "text": []
    },
    {
     "output_type": "stream",
     "name": "stdout",
     "text": [
      "\n",
      "Test Epoch 1: Average loss: 0.04860470, Accuracy: 9854/10000 (98.5400%)\n",
      "\n",
      "\n",
      "===================\n",
      "\n",
      "{'S_1': '0-11', 'S_2': '0-00-001-1011'}\n"
     ]
    },
    {
     "output_type": "stream",
     "name": "stderr",
     "text": []
    },
    {
     "output_type": "stream",
     "name": "stdout",
     "text": [
      "\n",
      "Test Epoch 1: Average loss: 0.04895758, Accuracy: 9854/10000 (98.5400%)\n",
      "\n",
      "\n",
      "===================\n",
      "\n",
      "{'S_1': '0-11', 'S_2': '0-00-001-1100'}\n"
     ]
    },
    {
     "output_type": "stream",
     "name": "stderr",
     "text": []
    },
    {
     "output_type": "stream",
     "name": "stdout",
     "text": [
      "\n",
      "Test Epoch 1: Average loss: 0.04814630, Accuracy: 9858/10000 (98.5800%)\n",
      "\n",
      "\n",
      "===================\n",
      "\n",
      "{'S_1': '0-11', 'S_2': '0-00-001-1101'}\n"
     ]
    },
    {
     "output_type": "stream",
     "name": "stderr",
     "text": []
    },
    {
     "output_type": "stream",
     "name": "stdout",
     "text": [
      "\n",
      "Test Epoch 1: Average loss: 0.04850554, Accuracy: 9855/10000 (98.5500%)\n",
      "\n",
      "\n",
      "===================\n",
      "\n",
      "{'S_1': '0-11', 'S_2': '0-00-001-1110'}\n"
     ]
    },
    {
     "output_type": "stream",
     "name": "stderr",
     "text": []
    },
    {
     "output_type": "stream",
     "name": "stdout",
     "text": [
      "\n",
      "Test Epoch 1: Average loss: 0.04897588, Accuracy: 9856/10000 (98.5600%)\n",
      "\n",
      "\n",
      "===================\n",
      "\n",
      "{'S_1': '0-11', 'S_2': '0-00-001-1111'}\n"
     ]
    },
    {
     "output_type": "stream",
     "name": "stderr",
     "text": []
    },
    {
     "output_type": "stream",
     "name": "stdout",
     "text": [
      "\n",
      "Test Epoch 1: Average loss: 0.04936840, Accuracy: 9856/10000 (98.5600%)\n",
      "\n",
      "\n",
      "===================\n",
      "\n",
      "{'S_1': '0-11', 'S_2': '0-00-010-0000'}\n"
     ]
    },
    {
     "output_type": "stream",
     "name": "stderr",
     "text": []
    },
    {
     "output_type": "stream",
     "name": "stdout",
     "text": [
      "\n",
      "Test Epoch 1: Average loss: 2.30280183, Accuracy: 882/10000 (8.8200%)\n",
      "\n",
      "\n",
      "===================\n",
      "\n",
      "{'S_1': '0-11', 'S_2': '0-00-010-0001'}\n"
     ]
    },
    {
     "output_type": "stream",
     "name": "stderr",
     "text": []
    },
    {
     "output_type": "stream",
     "name": "stdout",
     "text": [
      "\n",
      "Test Epoch 1: Average loss: 2.30382827, Accuracy: 1049/10000 (10.4900%)\n",
      "\n",
      "\n",
      "===================\n",
      "\n",
      "{'S_1': '0-11', 'S_2': '0-00-010-0010'}\n"
     ]
    },
    {
     "output_type": "stream",
     "name": "stderr",
     "text": []
    },
    {
     "output_type": "stream",
     "name": "stdout",
     "text": [
      "\n",
      "Test Epoch 1: Average loss: 2.30481043, Accuracy: 735/10000 (7.3500%)\n",
      "\n",
      "\n",
      "===================\n",
      "\n",
      "{'S_1': '0-11', 'S_2': '0-00-010-0011'}\n"
     ]
    },
    {
     "output_type": "stream",
     "name": "stderr",
     "text": []
    },
    {
     "output_type": "stream",
     "name": "stdout",
     "text": [
      "\n",
      "Test Epoch 1: Average loss: 2.30424875, Accuracy: 824/10000 (8.2400%)\n",
      "\n",
      "\n",
      "===================\n",
      "\n",
      "{'S_1': '0-11', 'S_2': '0-00-010-0100'}\n"
     ]
    },
    {
     "output_type": "stream",
     "name": "stderr",
     "text": []
    },
    {
     "output_type": "stream",
     "name": "stdout",
     "text": [
      "\n",
      "Test Epoch 1: Average loss: 2.31744149, Accuracy: 629/10000 (6.2900%)\n",
      "\n",
      "\n",
      "===================\n",
      "\n",
      "{'S_1': '0-11', 'S_2': '0-00-010-0101'}\n"
     ]
    },
    {
     "output_type": "stream",
     "name": "stderr",
     "text": []
    },
    {
     "output_type": "stream",
     "name": "stdout",
     "text": [
      "\n",
      "Test Epoch 1: Average loss: 2.31171302, Accuracy: 879/10000 (8.7900%)\n",
      "\n",
      "\n",
      "===================\n",
      "\n",
      "{'S_1': '0-11', 'S_2': '0-00-010-0110'}\n"
     ]
    },
    {
     "output_type": "stream",
     "name": "stderr",
     "text": []
    },
    {
     "output_type": "stream",
     "name": "stdout",
     "text": [
      "\n",
      "Test Epoch 1: Average loss: 2.31131535, Accuracy: 847/10000 (8.4700%)\n",
      "\n",
      "\n",
      "===================\n",
      "\n",
      "{'S_1': '0-11', 'S_2': '0-00-010-0111'}\n"
     ]
    },
    {
     "output_type": "stream",
     "name": "stderr",
     "text": []
    },
    {
     "output_type": "stream",
     "name": "stdout",
     "text": [
      "\n",
      "Test Epoch 1: Average loss: 2.30885406, Accuracy: 875/10000 (8.7500%)\n",
      "\n",
      "\n",
      "===================\n",
      "\n",
      "{'S_1': '0-11', 'S_2': '0-00-010-1000'}\n"
     ]
    },
    {
     "output_type": "stream",
     "name": "stderr",
     "text": []
    },
    {
     "output_type": "stream",
     "name": "stdout",
     "text": [
      "\n",
      "Test Epoch 1: Average loss: 0.04787329, Accuracy: 9858/10000 (98.5800%)\n",
      "\n",
      "\n",
      "===================\n",
      "\n",
      "{'S_1': '0-11', 'S_2': '0-00-010-1001'}\n"
     ]
    },
    {
     "output_type": "stream",
     "name": "stderr",
     "text": []
    },
    {
     "output_type": "stream",
     "name": "stdout",
     "text": [
      "\n",
      "Test Epoch 1: Average loss: 0.04815167, Accuracy: 9858/10000 (98.5800%)\n",
      "\n",
      "\n",
      "===================\n",
      "\n",
      "{'S_1': '0-11', 'S_2': '0-00-010-1010'}\n"
     ]
    },
    {
     "output_type": "stream",
     "name": "stderr",
     "text": []
    },
    {
     "output_type": "stream",
     "name": "stdout",
     "text": [
      "\n",
      "Test Epoch 1: Average loss: 0.04864412, Accuracy: 9854/10000 (98.5400%)\n",
      "\n",
      "\n",
      "===================\n",
      "\n",
      "{'S_1': '0-11', 'S_2': '0-00-010-1011'}\n"
     ]
    },
    {
     "output_type": "stream",
     "name": "stderr",
     "text": []
    },
    {
     "output_type": "stream",
     "name": "stdout",
     "text": [
      "\n",
      "Test Epoch 1: Average loss: 0.04895011, Accuracy: 9853/10000 (98.5300%)\n",
      "\n",
      "\n",
      "===================\n",
      "\n",
      "{'S_1': '0-11', 'S_2': '0-00-010-1100'}\n"
     ]
    },
    {
     "output_type": "stream",
     "name": "stderr",
     "text": []
    },
    {
     "output_type": "stream",
     "name": "stdout",
     "text": [
      "\n",
      "Test Epoch 1: Average loss: 0.04819120, Accuracy: 9857/10000 (98.5700%)\n",
      "\n",
      "\n",
      "===================\n",
      "\n",
      "{'S_1': '0-11', 'S_2': '0-00-010-1101'}\n"
     ]
    },
    {
     "output_type": "stream",
     "name": "stderr",
     "text": []
    },
    {
     "output_type": "stream",
     "name": "stdout",
     "text": [
      "\n",
      "Test Epoch 1: Average loss: 0.04851601, Accuracy: 9857/10000 (98.5700%)\n",
      "\n",
      "\n",
      "===================\n",
      "\n",
      "{'S_1': '0-11', 'S_2': '0-00-010-1110'}\n"
     ]
    },
    {
     "output_type": "stream",
     "name": "stderr",
     "text": []
    },
    {
     "output_type": "stream",
     "name": "stdout",
     "text": [
      "\n",
      "Test Epoch 1: Average loss: 0.04901816, Accuracy: 9856/10000 (98.5600%)\n",
      "\n",
      "\n",
      "===================\n",
      "\n",
      "{'S_1': '0-11', 'S_2': '0-00-010-1111'}\n"
     ]
    },
    {
     "output_type": "stream",
     "name": "stderr",
     "text": []
    },
    {
     "output_type": "stream",
     "name": "stdout",
     "text": [
      "\n",
      "Test Epoch 1: Average loss: 0.04937596, Accuracy: 9854/10000 (98.5400%)\n",
      "\n",
      "\n",
      "===================\n",
      "\n",
      "{'S_1': '0-11', 'S_2': '0-00-011-0000'}\n"
     ]
    },
    {
     "output_type": "stream",
     "name": "stderr",
     "text": []
    },
    {
     "output_type": "stream",
     "name": "stdout",
     "text": [
      "\n",
      "Test Epoch 1: Average loss: 2.30160975, Accuracy: 1112/10000 (11.1200%)\n",
      "\n",
      "\n",
      "===================\n",
      "\n",
      "{'S_1': '0-11', 'S_2': '0-00-011-0001'}\n"
     ]
    },
    {
     "output_type": "stream",
     "name": "stderr",
     "text": []
    },
    {
     "output_type": "stream",
     "name": "stdout",
     "text": [
      "\n",
      "Test Epoch 1: Average loss: 2.30395840, Accuracy: 961/10000 (9.6100%)\n",
      "\n",
      "\n",
      "===================\n",
      "\n",
      "{'S_1': '0-11', 'S_2': '0-00-011-0010'}\n"
     ]
    },
    {
     "output_type": "stream",
     "name": "stderr",
     "text": []
    },
    {
     "output_type": "stream",
     "name": "stdout",
     "text": [
      "\n",
      "Test Epoch 1: Average loss: 2.30473180, Accuracy: 839/10000 (8.3900%)\n",
      "\n",
      "\n",
      "===================\n",
      "\n",
      "{'S_1': '0-11', 'S_2': '0-00-011-0011'}\n"
     ]
    },
    {
     "output_type": "stream",
     "name": "stderr",
     "text": []
    },
    {
     "output_type": "stream",
     "name": "stdout",
     "text": [
      "\n",
      "Test Epoch 1: Average loss: 2.30401557, Accuracy: 857/10000 (8.5700%)\n",
      "\n",
      "\n",
      "===================\n",
      "\n",
      "{'S_1': '0-11', 'S_2': '0-00-011-0100'}\n"
     ]
    },
    {
     "output_type": "stream",
     "name": "stderr",
     "text": []
    },
    {
     "output_type": "stream",
     "name": "stdout",
     "text": [
      "\n",
      "Test Epoch 1: Average loss: 2.31790853, Accuracy: 635/10000 (6.3500%)\n",
      "\n",
      "\n",
      "===================\n",
      "\n",
      "{'S_1': '0-11', 'S_2': '0-00-011-0101'}\n"
     ]
    },
    {
     "output_type": "stream",
     "name": "stderr",
     "text": []
    },
    {
     "output_type": "stream",
     "name": "stdout",
     "text": [
      "\n",
      "Test Epoch 1: Average loss: 2.31186541, Accuracy: 871/10000 (8.7100%)\n",
      "\n",
      "\n",
      "===================\n",
      "\n",
      "{'S_1': '0-11', 'S_2': '0-00-011-0110'}\n"
     ]
    },
    {
     "output_type": "stream",
     "name": "stderr",
     "text": []
    },
    {
     "output_type": "stream",
     "name": "stdout",
     "text": [
      "\n",
      "Test Epoch 1: Average loss: 2.31156649, Accuracy: 856/10000 (8.5600%)\n",
      "\n",
      "\n",
      "===================\n",
      "\n",
      "{'S_1': '0-11', 'S_2': '0-00-011-0111'}\n"
     ]
    },
    {
     "output_type": "stream",
     "name": "stderr",
     "text": []
    },
    {
     "output_type": "stream",
     "name": "stdout",
     "text": [
      "\n",
      "Test Epoch 1: Average loss: 2.30897463, Accuracy: 865/10000 (8.6500%)\n",
      "\n",
      "\n",
      "===================\n",
      "\n",
      "{'S_1': '0-11', 'S_2': '0-00-011-1000'}\n"
     ]
    },
    {
     "output_type": "stream",
     "name": "stderr",
     "text": []
    },
    {
     "output_type": "stream",
     "name": "stdout",
     "text": [
      "\n",
      "Test Epoch 1: Average loss: 0.04782643, Accuracy: 9858/10000 (98.5800%)\n",
      "\n",
      "\n",
      "===================\n",
      "\n",
      "{'S_1': '0-11', 'S_2': '0-00-011-1001'}\n"
     ]
    },
    {
     "output_type": "stream",
     "name": "stderr",
     "text": []
    },
    {
     "output_type": "stream",
     "name": "stdout",
     "text": [
      "\n",
      "Test Epoch 1: Average loss: 0.04815410, Accuracy: 9858/10000 (98.5800%)\n",
      "\n",
      "\n",
      "===================\n",
      "\n",
      "{'S_1': '0-11', 'S_2': '0-00-011-1010'}\n"
     ]
    },
    {
     "output_type": "stream",
     "name": "stderr",
     "text": []
    },
    {
     "output_type": "stream",
     "name": "stdout",
     "text": [
      "\n",
      "Test Epoch 1: Average loss: 0.04859684, Accuracy: 9855/10000 (98.5500%)\n",
      "\n",
      "\n",
      "===================\n",
      "\n",
      "{'S_1': '0-11', 'S_2': '0-00-011-1011'}\n"
     ]
    },
    {
     "output_type": "stream",
     "name": "stderr",
     "text": []
    },
    {
     "output_type": "stream",
     "name": "stdout",
     "text": [
      "\n",
      "Test Epoch 1: Average loss: 0.04895368, Accuracy: 9852/10000 (98.5200%)\n",
      "\n",
      "\n",
      "===================\n",
      "\n",
      "{'S_1': '0-11', 'S_2': '0-00-011-1100'}\n"
     ]
    },
    {
     "output_type": "stream",
     "name": "stderr",
     "text": []
    },
    {
     "output_type": "stream",
     "name": "stdout",
     "text": [
      "\n",
      "Test Epoch 1: Average loss: 0.04814222, Accuracy: 9857/10000 (98.5700%)\n",
      "\n",
      "\n",
      "===================\n",
      "\n",
      "{'S_1': '0-11', 'S_2': '0-00-011-1101'}\n"
     ]
    },
    {
     "output_type": "stream",
     "name": "stderr",
     "text": []
    },
    {
     "output_type": "stream",
     "name": "stdout",
     "text": [
      "\n",
      "Test Epoch 1: Average loss: 0.04851607, Accuracy: 9857/10000 (98.5700%)\n",
      "\n",
      "\n",
      "===================\n",
      "\n",
      "{'S_1': '0-11', 'S_2': '0-00-011-1110'}\n"
     ]
    },
    {
     "output_type": "stream",
     "name": "stderr",
     "text": []
    },
    {
     "output_type": "stream",
     "name": "stdout",
     "text": [
      "\n",
      "Test Epoch 1: Average loss: 0.04896922, Accuracy: 9856/10000 (98.5600%)\n",
      "\n",
      "\n",
      "===================\n",
      "\n",
      "{'S_1': '0-11', 'S_2': '0-00-011-1111'}\n"
     ]
    },
    {
     "output_type": "stream",
     "name": "stderr",
     "text": []
    },
    {
     "output_type": "stream",
     "name": "stdout",
     "text": [
      "\n",
      "Test Epoch 1: Average loss: 0.04937701, Accuracy: 9855/10000 (98.5500%)\n",
      "\n",
      "\n",
      "===================\n",
      "\n",
      "{'S_1': '0-11', 'S_2': '0-00-100-0000'}\n"
     ]
    },
    {
     "output_type": "stream",
     "name": "stderr",
     "text": []
    },
    {
     "output_type": "stream",
     "name": "stdout",
     "text": [
      "\n",
      "Test Epoch 1: Average loss: 2.52134003, Accuracy: 1153/10000 (11.5300%)\n",
      "\n",
      "\n",
      "===================\n",
      "\n",
      "{'S_1': '0-11', 'S_2': '0-00-100-0001'}\n"
     ]
    },
    {
     "output_type": "stream",
     "name": "stderr",
     "text": []
    },
    {
     "output_type": "stream",
     "name": "stdout",
     "text": [
      "\n",
      "Test Epoch 1: Average loss: 0.63604125, Accuracy: 9852/10000 (98.5200%)\n",
      "\n",
      "\n",
      "===================\n",
      "\n",
      "{'S_1': '0-11', 'S_2': '0-00-100-0010'}\n"
     ]
    },
    {
     "output_type": "stream",
     "name": "stderr",
     "text": []
    },
    {
     "output_type": "stream",
     "name": "stdout",
     "text": [
      "\n",
      "Test Epoch 1: Average loss: 2.52279380, Accuracy: 1155/10000 (11.5500%)\n",
      "\n",
      "\n",
      "===================\n",
      "\n",
      "{'S_1': '0-11', 'S_2': '0-00-100-0011'}\n"
     ]
    },
    {
     "output_type": "stream",
     "name": "stderr",
     "text": []
    },
    {
     "output_type": "stream",
     "name": "stdout",
     "text": [
      "\n",
      "Test Epoch 1: Average loss: 0.70465802, Accuracy: 9843/10000 (98.4300%)\n",
      "\n",
      "\n",
      "===================\n",
      "\n",
      "{'S_1': '0-11', 'S_2': '0-00-100-0100'}\n"
     ]
    },
    {
     "output_type": "stream",
     "name": "stderr",
     "text": []
    },
    {
     "output_type": "stream",
     "name": "stdout",
     "text": [
      "\n",
      "Test Epoch 1: Average loss: 2.53335632, Accuracy: 1146/10000 (11.4600%)\n",
      "\n",
      "\n",
      "===================\n",
      "\n",
      "{'S_1': '0-11', 'S_2': '0-00-100-0101'}\n"
     ]
    },
    {
     "output_type": "stream",
     "name": "stderr",
     "text": []
    },
    {
     "output_type": "stream",
     "name": "stdout",
     "text": [
      "\n",
      "Test Epoch 1: Average loss: 0.72693011, Accuracy: 9842/10000 (98.4200%)\n",
      "\n",
      "\n",
      "===================\n",
      "\n",
      "{'S_1': '0-11', 'S_2': '0-00-100-0110'}\n"
     ]
    },
    {
     "output_type": "stream",
     "name": "stderr",
     "text": []
    },
    {
     "output_type": "stream",
     "name": "stdout",
     "text": [
      "\n",
      "Test Epoch 1: Average loss: 2.53071030, Accuracy: 1159/10000 (11.5900%)\n",
      "\n",
      "\n",
      "===================\n",
      "\n",
      "{'S_1': '0-11', 'S_2': '0-00-100-0111'}\n"
     ]
    },
    {
     "output_type": "stream",
     "name": "stderr",
     "text": []
    },
    {
     "output_type": "stream",
     "name": "stdout",
     "text": [
      "\n",
      "Test Epoch 1: Average loss: 0.79815693, Accuracy: 9829/10000 (98.2900%)\n",
      "\n",
      "\n",
      "===================\n",
      "\n",
      "{'S_1': '0-11', 'S_2': '0-00-100-1000'}\n"
     ]
    },
    {
     "output_type": "stream",
     "name": "stderr",
     "text": []
    },
    {
     "output_type": "stream",
     "name": "stdout",
     "text": [
      "\n",
      "Test Epoch 1: Average loss: 0.04821745, Accuracy: 9862/10000 (98.6200%)\n",
      "\n",
      "\n",
      "===================\n",
      "\n",
      "{'S_1': '0-11', 'S_2': '0-00-100-1001'}\n"
     ]
    },
    {
     "output_type": "stream",
     "name": "stderr",
     "text": []
    },
    {
     "output_type": "stream",
     "name": "stdout",
     "text": [
      "\n",
      "Test Epoch 1: Average loss: 0.04246040, Accuracy: 9881/10000 (98.8100%)\n",
      "\n",
      "\n",
      "===================\n",
      "\n",
      "{'S_1': '0-11', 'S_2': '0-00-100-1010'}\n"
     ]
    },
    {
     "output_type": "stream",
     "name": "stderr",
     "text": []
    },
    {
     "output_type": "stream",
     "name": "stdout",
     "text": [
      "\n",
      "Test Epoch 1: Average loss: 0.04907197, Accuracy: 9859/10000 (98.5900%)\n",
      "\n",
      "\n",
      "===================\n",
      "\n",
      "{'S_1': '0-11', 'S_2': '0-00-100-1011'}\n"
     ]
    },
    {
     "output_type": "stream",
     "name": "stderr",
     "text": []
    },
    {
     "output_type": "stream",
     "name": "stdout",
     "text": [
      "\n",
      "Test Epoch 1: Average loss: 0.04283061, Accuracy: 9879/10000 (98.7900%)\n",
      "\n",
      "\n",
      "===================\n",
      "\n",
      "{'S_1': '0-11', 'S_2': '0-00-100-1100'}\n"
     ]
    },
    {
     "output_type": "stream",
     "name": "stderr",
     "text": []
    },
    {
     "output_type": "stream",
     "name": "stdout",
     "text": [
      "\n",
      "Test Epoch 1: Average loss: 0.04869089, Accuracy: 9860/10000 (98.6000%)\n",
      "\n",
      "\n",
      "===================\n",
      "\n",
      "{'S_1': '0-11', 'S_2': '0-00-100-1101'}\n"
     ]
    },
    {
     "output_type": "stream",
     "name": "stderr",
     "text": []
    },
    {
     "output_type": "stream",
     "name": "stdout",
     "text": [
      "\n",
      "Test Epoch 1: Average loss: 0.04249838, Accuracy: 9878/10000 (98.7800%)\n",
      "\n",
      "\n",
      "===================\n",
      "\n",
      "{'S_1': '0-11', 'S_2': '0-00-100-1110'}\n"
     ]
    },
    {
     "output_type": "stream",
     "name": "stderr",
     "text": []
    },
    {
     "output_type": "stream",
     "name": "stdout",
     "text": [
      "\n",
      "Test Epoch 1: Average loss: 0.04961269, Accuracy: 9858/10000 (98.5800%)\n",
      "\n",
      "\n",
      "===================\n",
      "\n",
      "{'S_1': '0-11', 'S_2': '0-00-100-1111'}\n"
     ]
    },
    {
     "output_type": "stream",
     "name": "stderr",
     "text": []
    },
    {
     "output_type": "stream",
     "name": "stdout",
     "text": [
      "\n",
      "Test Epoch 1: Average loss: 0.04288911, Accuracy: 9877/10000 (98.7700%)\n",
      "\n",
      "\n",
      "===================\n",
      "\n",
      "{'S_1': '0-11', 'S_2': '0-00-101-0000'}\n"
     ]
    },
    {
     "output_type": "stream",
     "name": "stderr",
     "text": []
    },
    {
     "output_type": "stream",
     "name": "stdout",
     "text": [
      "\n",
      "Test Epoch 1: Average loss: 2.51731507, Accuracy: 1166/10000 (11.6600%)\n",
      "\n",
      "\n",
      "===================\n",
      "\n",
      "{'S_1': '0-11', 'S_2': '0-00-101-0001'}\n"
     ]
    },
    {
     "output_type": "stream",
     "name": "stderr",
     "text": []
    },
    {
     "output_type": "stream",
     "name": "stdout",
     "text": [
      "\n",
      "Test Epoch 1: Average loss: 0.64313313, Accuracy: 9852/10000 (98.5200%)\n",
      "\n",
      "\n",
      "===================\n",
      "\n",
      "{'S_1': '0-11', 'S_2': '0-00-101-0010'}\n"
     ]
    },
    {
     "output_type": "stream",
     "name": "stderr",
     "text": []
    },
    {
     "output_type": "stream",
     "name": "stdout",
     "text": [
      "\n",
      "Test Epoch 1: Average loss: 2.51889639, Accuracy: 1164/10000 (11.6400%)\n",
      "\n",
      "\n",
      "===================\n",
      "\n",
      "{'S_1': '0-11', 'S_2': '0-00-101-0011'}\n"
     ]
    },
    {
     "output_type": "stream",
     "name": "stderr",
     "text": []
    },
    {
     "output_type": "stream",
     "name": "stdout",
     "text": [
      "\n",
      "Test Epoch 1: Average loss: 0.71277257, Accuracy: 9845/10000 (98.4500%)\n",
      "\n",
      "\n",
      "===================\n",
      "\n",
      "{'S_1': '0-11', 'S_2': '0-00-101-0100'}\n"
     ]
    },
    {
     "output_type": "stream",
     "name": "stderr",
     "text": []
    },
    {
     "output_type": "stream",
     "name": "stdout",
     "text": [
      "\n",
      "Test Epoch 1: Average loss: 2.52918221, Accuracy: 1155/10000 (11.5500%)\n",
      "\n",
      "\n",
      "===================\n",
      "\n",
      "{'S_1': '0-11', 'S_2': '0-00-101-0101'}\n"
     ]
    },
    {
     "output_type": "stream",
     "name": "stderr",
     "text": []
    },
    {
     "output_type": "stream",
     "name": "stdout",
     "text": [
      "\n",
      "Test Epoch 1: Average loss: 0.73525142, Accuracy: 9839/10000 (98.3900%)\n",
      "\n",
      "\n",
      "===================\n",
      "\n",
      "{'S_1': '0-11', 'S_2': '0-00-101-0110'}\n"
     ]
    },
    {
     "output_type": "stream",
     "name": "stderr",
     "text": []
    },
    {
     "output_type": "stream",
     "name": "stdout",
     "text": [
      "\n",
      "Test Epoch 1: Average loss: 2.52668919, Accuracy: 1168/10000 (11.6800%)\n",
      "\n",
      "\n",
      "===================\n",
      "\n",
      "{'S_1': '0-11', 'S_2': '0-00-101-0111'}\n"
     ]
    },
    {
     "output_type": "stream",
     "name": "stderr",
     "text": []
    },
    {
     "output_type": "stream",
     "name": "stdout",
     "text": [
      "\n",
      "Test Epoch 1: Average loss: 0.80744516, Accuracy: 9828/10000 (98.2800%)\n",
      "\n",
      "\n",
      "===================\n",
      "\n",
      "{'S_1': '0-11', 'S_2': '0-00-101-1000'}\n"
     ]
    },
    {
     "output_type": "stream",
     "name": "stderr",
     "text": []
    },
    {
     "output_type": "stream",
     "name": "stdout",
     "text": [
      "\n",
      "Test Epoch 1: Average loss: 0.04819451, Accuracy: 9862/10000 (98.6200%)\n",
      "\n",
      "\n",
      "===================\n",
      "\n",
      "{'S_1': '0-11', 'S_2': '0-00-101-1001'}\n"
     ]
    },
    {
     "output_type": "stream",
     "name": "stderr",
     "text": []
    },
    {
     "output_type": "stream",
     "name": "stdout",
     "text": [
      "\n",
      "Test Epoch 1: Average loss: 0.04251921, Accuracy: 9881/10000 (98.8100%)\n",
      "\n",
      "\n",
      "===================\n",
      "\n",
      "{'S_1': '0-11', 'S_2': '0-00-101-1010'}\n"
     ]
    },
    {
     "output_type": "stream",
     "name": "stderr",
     "text": []
    },
    {
     "output_type": "stream",
     "name": "stdout",
     "text": [
      "\n",
      "Test Epoch 1: Average loss: 0.04904061, Accuracy: 9859/10000 (98.5900%)\n",
      "\n",
      "\n",
      "===================\n",
      "\n",
      "{'S_1': '0-11', 'S_2': '0-00-101-1011'}\n"
     ]
    },
    {
     "output_type": "stream",
     "name": "stderr",
     "text": []
    },
    {
     "output_type": "stream",
     "name": "stdout",
     "text": [
      "\n",
      "Test Epoch 1: Average loss: 0.04289558, Accuracy: 9879/10000 (98.7900%)\n",
      "\n",
      "\n",
      "===================\n",
      "\n",
      "{'S_1': '0-11', 'S_2': '0-00-101-1100'}\n"
     ]
    },
    {
     "output_type": "stream",
     "name": "stderr",
     "text": []
    },
    {
     "output_type": "stream",
     "name": "stdout",
     "text": [
      "\n",
      "Test Epoch 1: Average loss: 0.04865491, Accuracy: 9860/10000 (98.6000%)\n",
      "\n",
      "\n",
      "===================\n",
      "\n",
      "{'S_1': '0-11', 'S_2': '0-00-101-1101'}\n"
     ]
    },
    {
     "output_type": "stream",
     "name": "stderr",
     "text": []
    },
    {
     "output_type": "stream",
     "name": "stdout",
     "text": [
      "\n",
      "Test Epoch 1: Average loss: 0.04256078, Accuracy: 9878/10000 (98.7800%)\n",
      "\n",
      "\n",
      "===================\n",
      "\n",
      "{'S_1': '0-11', 'S_2': '0-00-101-1110'}\n"
     ]
    },
    {
     "output_type": "stream",
     "name": "stderr",
     "text": []
    },
    {
     "output_type": "stream",
     "name": "stdout",
     "text": [
      "\n",
      "Test Epoch 1: Average loss: 0.04957004, Accuracy: 9857/10000 (98.5700%)\n",
      "\n",
      "\n",
      "===================\n",
      "\n",
      "{'S_1': '0-11', 'S_2': '0-00-101-1111'}\n"
     ]
    },
    {
     "output_type": "stream",
     "name": "stderr",
     "text": []
    },
    {
     "output_type": "stream",
     "name": "stdout",
     "text": [
      "\n",
      "Test Epoch 1: Average loss: 0.04295399, Accuracy: 9877/10000 (98.7700%)\n",
      "\n",
      "\n",
      "===================\n",
      "\n",
      "{'S_1': '0-11', 'S_2': '0-00-110-0000'}\n"
     ]
    },
    {
     "output_type": "stream",
     "name": "stderr",
     "text": []
    },
    {
     "output_type": "stream",
     "name": "stdout",
     "text": [
      "\n",
      "Test Epoch 1: Average loss: 2.51527221, Accuracy: 1157/10000 (11.5700%)\n",
      "\n",
      "\n",
      "===================\n",
      "\n",
      "{'S_1': '0-11', 'S_2': '0-00-110-0001'}\n"
     ]
    },
    {
     "output_type": "stream",
     "name": "stderr",
     "text": []
    },
    {
     "output_type": "stream",
     "name": "stdout",
     "text": [
      "\n",
      "Test Epoch 1: Average loss: 0.64575730, Accuracy: 9851/10000 (98.5100%)\n",
      "\n",
      "\n",
      "===================\n",
      "\n",
      "{'S_1': '0-11', 'S_2': '0-00-110-0010'}\n"
     ]
    },
    {
     "output_type": "stream",
     "name": "stderr",
     "text": []
    },
    {
     "output_type": "stream",
     "name": "stdout",
     "text": [
      "\n",
      "Test Epoch 1: Average loss: 2.51646296, Accuracy: 1160/10000 (11.6000%)\n",
      "\n",
      "\n",
      "===================\n",
      "\n",
      "{'S_1': '0-11', 'S_2': '0-00-110-0011'}\n"
     ]
    },
    {
     "output_type": "stream",
     "name": "stderr",
     "text": []
    },
    {
     "output_type": "stream",
     "name": "stdout",
     "text": [
      "\n",
      "Test Epoch 1: Average loss: 0.71551848, Accuracy: 9847/10000 (98.4700%)\n",
      "\n",
      "\n",
      "===================\n",
      "\n",
      "{'S_1': '0-11', 'S_2': '0-00-110-0100'}\n"
     ]
    },
    {
     "output_type": "stream",
     "name": "stderr",
     "text": []
    },
    {
     "output_type": "stream",
     "name": "stdout",
     "text": [
      "\n",
      "Test Epoch 1: Average loss: 2.52700593, Accuracy: 1147/10000 (11.4700%)\n",
      "\n",
      "\n",
      "===================\n",
      "\n",
      "{'S_1': '0-11', 'S_2': '0-00-110-0101'}\n"
     ]
    },
    {
     "output_type": "stream",
     "name": "stderr",
     "text": []
    },
    {
     "output_type": "stream",
     "name": "stdout",
     "text": [
      "\n",
      "Test Epoch 1: Average loss: 0.73819615, Accuracy: 9833/10000 (98.3300%)\n",
      "\n",
      "\n",
      "===================\n",
      "\n",
      "{'S_1': '0-11', 'S_2': '0-00-110-0110'}\n"
     ]
    },
    {
     "output_type": "stream",
     "name": "stderr",
     "text": []
    },
    {
     "output_type": "stream",
     "name": "stdout",
     "text": [
      "\n",
      "Test Epoch 1: Average loss: 2.52422899, Accuracy: 1159/10000 (11.5900%)\n",
      "\n",
      "\n",
      "===================\n",
      "\n",
      "{'S_1': '0-11', 'S_2': '0-00-110-0111'}\n"
     ]
    },
    {
     "output_type": "stream",
     "name": "stderr",
     "text": []
    },
    {
     "output_type": "stream",
     "name": "stdout",
     "text": [
      "\n",
      "Test Epoch 1: Average loss: 0.81035902, Accuracy: 9828/10000 (98.2800%)\n",
      "\n",
      "\n",
      "===================\n",
      "\n",
      "{'S_1': '0-11', 'S_2': '0-00-110-1000'}\n"
     ]
    },
    {
     "output_type": "stream",
     "name": "stderr",
     "text": []
    },
    {
     "output_type": "stream",
     "name": "stdout",
     "text": [
      "\n",
      "Test Epoch 1: Average loss: 0.04820151, Accuracy: 9863/10000 (98.6300%)\n",
      "\n",
      "\n",
      "===================\n",
      "\n",
      "{'S_1': '0-11', 'S_2': '0-00-110-1001'}\n"
     ]
    },
    {
     "output_type": "stream",
     "name": "stderr",
     "text": []
    },
    {
     "output_type": "stream",
     "name": "stdout",
     "text": [
      "\n",
      "Test Epoch 1: Average loss: 0.04255555, Accuracy: 9881/10000 (98.8100%)\n",
      "\n",
      "\n",
      "===================\n",
      "\n",
      "{'S_1': '0-11', 'S_2': '0-00-110-1010'}\n"
     ]
    },
    {
     "output_type": "stream",
     "name": "stderr",
     "text": []
    },
    {
     "output_type": "stream",
     "name": "stdout",
     "text": [
      "\n",
      "Test Epoch 1: Average loss: 0.04904435, Accuracy: 9861/10000 (98.6100%)\n",
      "\n",
      "\n",
      "===================\n",
      "\n",
      "{'S_1': '0-11', 'S_2': '0-00-110-1011'}\n"
     ]
    },
    {
     "output_type": "stream",
     "name": "stderr",
     "text": []
    },
    {
     "output_type": "stream",
     "name": "stdout",
     "text": [
      "\n",
      "Test Epoch 1: Average loss: 0.04293229, Accuracy: 9879/10000 (98.7900%)\n",
      "\n",
      "\n",
      "===================\n",
      "\n",
      "{'S_1': '0-11', 'S_2': '0-00-110-1100'}\n"
     ]
    },
    {
     "output_type": "stream",
     "name": "stderr",
     "text": []
    },
    {
     "output_type": "stream",
     "name": "stdout",
     "text": [
      "\n",
      "Test Epoch 1: Average loss: 0.04867285, Accuracy: 9860/10000 (98.6000%)\n",
      "\n",
      "\n",
      "===================\n",
      "\n",
      "{'S_1': '0-11', 'S_2': '0-00-110-1101'}\n"
     ]
    },
    {
     "output_type": "stream",
     "name": "stderr",
     "text": []
    },
    {
     "output_type": "stream",
     "name": "stdout",
     "text": [
      "\n",
      "Test Epoch 1: Average loss: 0.04259849, Accuracy: 9877/10000 (98.7700%)\n",
      "\n",
      "\n",
      "===================\n",
      "\n",
      "{'S_1': '0-11', 'S_2': '0-00-110-1110'}\n"
     ]
    },
    {
     "output_type": "stream",
     "name": "stderr",
     "text": []
    },
    {
     "output_type": "stream",
     "name": "stdout",
     "text": [
      "\n",
      "Test Epoch 1: Average loss: 0.04958584, Accuracy: 9856/10000 (98.5600%)\n",
      "\n",
      "\n",
      "===================\n",
      "\n",
      "{'S_1': '0-11', 'S_2': '0-00-110-1111'}\n"
     ]
    },
    {
     "output_type": "stream",
     "name": "stderr",
     "text": []
    },
    {
     "output_type": "stream",
     "name": "stdout",
     "text": [
      "\n",
      "Test Epoch 1: Average loss: 0.04299567, Accuracy: 9877/10000 (98.7700%)\n",
      "\n",
      "\n",
      "===================\n",
      "\n",
      "{'S_1': '0-11', 'S_2': '0-00-111-0000'}\n"
     ]
    },
    {
     "output_type": "stream",
     "name": "stderr",
     "text": []
    },
    {
     "output_type": "stream",
     "name": "stdout",
     "text": [
      "\n",
      "Test Epoch 1: Average loss: 2.51123049, Accuracy: 1171/10000 (11.7100%)\n",
      "\n",
      "\n",
      "===================\n",
      "\n",
      "{'S_1': '0-11', 'S_2': '0-00-111-0001'}\n"
     ]
    },
    {
     "output_type": "stream",
     "name": "stderr",
     "text": []
    },
    {
     "output_type": "stream",
     "name": "stdout",
     "text": [
      "\n",
      "Test Epoch 1: Average loss: 0.65322693, Accuracy: 9849/10000 (98.4900%)\n",
      "\n",
      "\n",
      "===================\n",
      "\n",
      "{'S_1': '0-11', 'S_2': '0-00-111-0010'}\n"
     ]
    },
    {
     "output_type": "stream",
     "name": "stderr",
     "text": []
    },
    {
     "output_type": "stream",
     "name": "stdout",
     "text": [
      "\n",
      "Test Epoch 1: Average loss: 2.51252236, Accuracy: 1166/10000 (11.6600%)\n",
      "\n",
      "\n",
      "===================\n",
      "\n",
      "{'S_1': '0-11', 'S_2': '0-00-111-0011'}\n"
     ]
    },
    {
     "output_type": "stream",
     "name": "stderr",
     "text": []
    },
    {
     "output_type": "stream",
     "name": "stdout",
     "text": [
      "\n",
      "Test Epoch 1: Average loss: 0.72403278, Accuracy: 9843/10000 (98.4300%)\n",
      "\n",
      "\n",
      "===================\n",
      "\n",
      "{'S_1': '0-11', 'S_2': '0-00-111-0100'}\n"
     ]
    },
    {
     "output_type": "stream",
     "name": "stderr",
     "text": []
    },
    {
     "output_type": "stream",
     "name": "stdout",
     "text": [
      "\n",
      "Test Epoch 1: Average loss: 2.52282539, Accuracy: 1146/10000 (11.4600%)\n",
      "\n",
      "\n",
      "===================\n",
      "\n",
      "{'S_1': '0-11', 'S_2': '0-00-111-0101'}\n"
     ]
    },
    {
     "output_type": "stream",
     "name": "stderr",
     "text": []
    },
    {
     "output_type": "stream",
     "name": "stdout",
     "text": [
      "\n",
      "Test Epoch 1: Average loss: 0.74690179, Accuracy: 9835/10000 (98.3500%)\n",
      "\n",
      "\n",
      "===================\n",
      "\n",
      "{'S_1': '0-11', 'S_2': '0-00-111-0110'}\n"
     ]
    },
    {
     "output_type": "stream",
     "name": "stderr",
     "text": []
    },
    {
     "output_type": "stream",
     "name": "stdout",
     "text": [
      "\n",
      "Test Epoch 1: Average loss: 2.52016335, Accuracy: 1173/10000 (11.7300%)\n",
      "\n",
      "\n",
      "===================\n",
      "\n",
      "{'S_1': '0-11', 'S_2': '0-00-111-0111'}\n"
     ]
    },
    {
     "output_type": "stream",
     "name": "stderr",
     "text": []
    },
    {
     "output_type": "stream",
     "name": "stdout",
     "text": [
      "\n",
      "Test Epoch 1: Average loss: 0.82002937, Accuracy: 9828/10000 (98.2800%)\n",
      "\n",
      "\n",
      "===================\n",
      "\n",
      "{'S_1': '0-11', 'S_2': '0-00-111-1000'}\n"
     ]
    },
    {
     "output_type": "stream",
     "name": "stderr",
     "text": []
    },
    {
     "output_type": "stream",
     "name": "stdout",
     "text": [
      "\n",
      "Test Epoch 1: Average loss: 0.04817874, Accuracy: 9862/10000 (98.6200%)\n",
      "\n",
      "\n",
      "===================\n",
      "\n",
      "{'S_1': '0-11', 'S_2': '0-00-111-1001'}\n"
     ]
    },
    {
     "output_type": "stream",
     "name": "stderr",
     "text": []
    },
    {
     "output_type": "stream",
     "name": "stdout",
     "text": [
      "\n",
      "Test Epoch 1: Average loss: 0.04261743, Accuracy: 9881/10000 (98.8100%)\n",
      "\n",
      "\n",
      "===================\n",
      "\n",
      "{'S_1': '0-11', 'S_2': '0-00-111-1010'}\n"
     ]
    },
    {
     "output_type": "stream",
     "name": "stderr",
     "text": []
    },
    {
     "output_type": "stream",
     "name": "stdout",
     "text": [
      "\n",
      "Test Epoch 1: Average loss: 0.04901582, Accuracy: 9860/10000 (98.6000%)\n",
      "\n",
      "\n",
      "===================\n",
      "\n",
      "{'S_1': '0-11', 'S_2': '0-00-111-1011'}\n"
     ]
    },
    {
     "output_type": "stream",
     "name": "stderr",
     "text": []
    },
    {
     "output_type": "stream",
     "name": "stdout",
     "text": [
      "\n",
      "Test Epoch 1: Average loss: 0.04299709, Accuracy: 9878/10000 (98.7800%)\n",
      "\n",
      "\n",
      "===================\n",
      "\n",
      "{'S_1': '0-11', 'S_2': '0-00-111-1100'}\n"
     ]
    },
    {
     "output_type": "stream",
     "name": "stderr",
     "text": []
    },
    {
     "output_type": "stream",
     "name": "stdout",
     "text": [
      "\n",
      "Test Epoch 1: Average loss: 0.04863904, Accuracy: 9861/10000 (98.6100%)\n",
      "\n",
      "\n",
      "===================\n",
      "\n",
      "{'S_1': '0-11', 'S_2': '0-00-111-1101'}\n"
     ]
    },
    {
     "output_type": "stream",
     "name": "stderr",
     "text": []
    },
    {
     "output_type": "stream",
     "name": "stdout",
     "text": [
      "\n",
      "Test Epoch 1: Average loss: 0.04266279, Accuracy: 9877/10000 (98.7700%)\n",
      "\n",
      "\n",
      "===================\n",
      "\n",
      "{'S_1': '0-11', 'S_2': '0-00-111-1110'}\n"
     ]
    },
    {
     "output_type": "stream",
     "name": "stderr",
     "text": []
    },
    {
     "output_type": "stream",
     "name": "stdout",
     "text": [
      "\n",
      "Test Epoch 1: Average loss: 0.04954534, Accuracy: 9857/10000 (98.5700%)\n",
      "\n",
      "\n",
      "===================\n",
      "\n",
      "{'S_1': '0-11', 'S_2': '0-00-111-1111'}\n"
     ]
    },
    {
     "output_type": "stream",
     "name": "stderr",
     "text": []
    },
    {
     "output_type": "stream",
     "name": "stdout",
     "text": [
      "\n",
      "Test Epoch 1: Average loss: 0.04306347, Accuracy: 9877/10000 (98.7700%)\n",
      "\n",
      "\n",
      "===================\n",
      "\n",
      "{'S_1': '0-11', 'S_2': '0-01-000-0000'}\n"
     ]
    },
    {
     "output_type": "stream",
     "name": "stderr",
     "text": []
    },
    {
     "output_type": "stream",
     "name": "stdout",
     "text": [
      "\n",
      "Test Epoch 1: Average loss: 2.30229162, Accuracy: 1080/10000 (10.8000%)\n",
      "\n",
      "\n",
      "===================\n",
      "\n",
      "{'S_1': '0-11', 'S_2': '0-01-000-0001'}\n"
     ]
    },
    {
     "output_type": "stream",
     "name": "stderr",
     "text": []
    },
    {
     "output_type": "stream",
     "name": "stdout",
     "text": [
      "\n",
      "Test Epoch 1: Average loss: 2.30136194, Accuracy: 1151/10000 (11.5100%)\n",
      "\n",
      "\n",
      "===================\n",
      "\n",
      "{'S_1': '0-11', 'S_2': '0-01-000-0010'}\n"
     ]
    },
    {
     "output_type": "stream",
     "name": "stderr",
     "text": []
    },
    {
     "output_type": "stream",
     "name": "stdout",
     "text": [
      "\n",
      "Test Epoch 1: Average loss: 2.30419257, Accuracy: 901/10000 (9.0100%)\n",
      "\n",
      "\n",
      "===================\n",
      "\n",
      "{'S_1': '0-11', 'S_2': '0-01-000-0011'}\n"
     ]
    },
    {
     "output_type": "stream",
     "name": "stderr",
     "text": []
    },
    {
     "output_type": "stream",
     "name": "stdout",
     "text": [
      "\n",
      "Test Epoch 1: Average loss: 2.30403120, Accuracy: 1072/10000 (10.7200%)\n",
      "\n",
      "\n",
      "===================\n",
      "\n",
      "{'S_1': '0-11', 'S_2': '0-01-000-0100'}\n"
     ]
    },
    {
     "output_type": "stream",
     "name": "stderr",
     "text": []
    },
    {
     "output_type": "stream",
     "name": "stdout",
     "text": [
      "\n",
      "Test Epoch 1: Average loss: 2.31578201, Accuracy: 830/10000 (8.3000%)\n",
      "\n",
      "\n",
      "===================\n",
      "\n",
      "{'S_1': '0-11', 'S_2': '0-01-000-0101'}\n"
     ]
    },
    {
     "output_type": "stream",
     "name": "stderr",
     "text": []
    },
    {
     "output_type": "stream",
     "name": "stdout",
     "text": [
      "\n",
      "Test Epoch 1: Average loss: 2.31056177, Accuracy: 863/10000 (8.6300%)\n",
      "\n",
      "\n",
      "===================\n",
      "\n",
      "{'S_1': '0-11', 'S_2': '0-01-000-0110'}\n"
     ]
    },
    {
     "output_type": "stream",
     "name": "stderr",
     "text": []
    },
    {
     "output_type": "stream",
     "name": "stdout",
     "text": [
      "\n",
      "Test Epoch 1: Average loss: 2.31198761, Accuracy: 864/10000 (8.6400%)\n",
      "\n",
      "\n",
      "===================\n",
      "\n",
      "{'S_1': '0-11', 'S_2': '0-01-000-0111'}\n"
     ]
    },
    {
     "output_type": "stream",
     "name": "stderr",
     "text": []
    },
    {
     "output_type": "stream",
     "name": "stdout",
     "text": [
      "\n",
      "Test Epoch 1: Average loss: 2.30870241, Accuracy: 863/10000 (8.6300%)\n",
      "\n",
      "\n",
      "===================\n",
      "\n",
      "{'S_1': '0-11', 'S_2': '0-01-000-1000'}\n"
     ]
    },
    {
     "output_type": "stream",
     "name": "stderr",
     "text": []
    },
    {
     "output_type": "stream",
     "name": "stdout",
     "text": [
      "\n",
      "Test Epoch 1: Average loss: 0.04786890, Accuracy: 9858/10000 (98.5800%)\n",
      "\n",
      "\n",
      "===================\n",
      "\n",
      "{'S_1': '0-11', 'S_2': '0-01-000-1001'}\n"
     ]
    },
    {
     "output_type": "stream",
     "name": "stderr",
     "text": []
    },
    {
     "output_type": "stream",
     "name": "stdout",
     "text": [
      "\n",
      "Test Epoch 1: Average loss: 0.04817293, Accuracy: 9855/10000 (98.5500%)\n",
      "\n",
      "\n",
      "===================\n",
      "\n",
      "{'S_1': '0-11', 'S_2': '0-01-000-1010'}\n"
     ]
    },
    {
     "output_type": "stream",
     "name": "stderr",
     "text": []
    },
    {
     "output_type": "stream",
     "name": "stdout",
     "text": [
      "\n",
      "Test Epoch 1: Average loss: 0.04825958, Accuracy: 9855/10000 (98.5500%)\n",
      "\n",
      "\n",
      "===================\n",
      "\n",
      "{'S_1': '0-11', 'S_2': '0-01-000-1011'}\n"
     ]
    },
    {
     "output_type": "stream",
     "name": "stderr",
     "text": []
    },
    {
     "output_type": "stream",
     "name": "stdout",
     "text": [
      "\n",
      "Test Epoch 1: Average loss: 0.04859777, Accuracy: 9853/10000 (98.5300%)\n",
      "\n",
      "\n",
      "===================\n",
      "\n",
      "{'S_1': '0-11', 'S_2': '0-01-000-1100'}\n"
     ]
    },
    {
     "output_type": "stream",
     "name": "stderr",
     "text": []
    },
    {
     "output_type": "stream",
     "name": "stdout",
     "text": [
      "\n",
      "Test Epoch 1: Average loss: 0.04818511, Accuracy: 9857/10000 (98.5700%)\n",
      "\n",
      "\n",
      "===================\n",
      "\n",
      "{'S_1': '0-11', 'S_2': '0-01-000-1101'}\n"
     ]
    },
    {
     "output_type": "stream",
     "name": "stderr",
     "text": []
    },
    {
     "output_type": "stream",
     "name": "stdout",
     "text": [
      "\n",
      "Test Epoch 1: Average loss: 0.04854547, Accuracy: 9854/10000 (98.5400%)\n",
      "\n",
      "\n",
      "===================\n",
      "\n",
      "{'S_1': '0-11', 'S_2': '0-01-000-1110'}\n"
     ]
    },
    {
     "output_type": "stream",
     "name": "stderr",
     "text": []
    },
    {
     "output_type": "stream",
     "name": "stdout",
     "text": [
      "\n",
      "Test Epoch 1: Average loss: 0.04863097, Accuracy: 9858/10000 (98.5800%)\n",
      "\n",
      "\n",
      "===================\n",
      "\n",
      "{'S_1': '0-11', 'S_2': '0-01-000-1111'}\n"
     ]
    },
    {
     "output_type": "stream",
     "name": "stderr",
     "text": []
    },
    {
     "output_type": "stream",
     "name": "stdout",
     "text": [
      "\n",
      "Test Epoch 1: Average loss: 0.04903053, Accuracy: 9855/10000 (98.5500%)\n",
      "\n",
      "\n",
      "===================\n",
      "\n",
      "{'S_1': '0-11', 'S_2': '0-01-001-0000'}\n"
     ]
    },
    {
     "output_type": "stream",
     "name": "stderr",
     "text": []
    },
    {
     "output_type": "stream",
     "name": "stdout",
     "text": [
      "\n",
      "Test Epoch 1: Average loss: 2.30380556, Accuracy: 969/10000 (9.6900%)\n",
      "\n",
      "\n",
      "===================\n",
      "\n",
      "{'S_1': '0-11', 'S_2': '0-01-001-0001'}\n"
     ]
    },
    {
     "output_type": "stream",
     "name": "stderr",
     "text": []
    },
    {
     "output_type": "stream",
     "name": "stdout",
     "text": [
      "\n",
      "Test Epoch 1: Average loss: 2.30423631, Accuracy: 882/10000 (8.8200%)\n",
      "\n",
      "\n",
      "===================\n",
      "\n",
      "{'S_1': '0-11', 'S_2': '0-01-001-0010'}\n"
     ]
    },
    {
     "output_type": "stream",
     "name": "stderr",
     "text": []
    },
    {
     "output_type": "stream",
     "name": "stdout",
     "text": [
      "\n",
      "Test Epoch 1: Average loss: 2.30407497, Accuracy: 904/10000 (9.0400%)\n",
      "\n",
      "\n",
      "===================\n",
      "\n",
      "{'S_1': '0-11', 'S_2': '0-01-001-0011'}\n"
     ]
    },
    {
     "output_type": "stream",
     "name": "stderr",
     "text": []
    },
    {
     "output_type": "stream",
     "name": "stdout",
     "text": [
      "\n",
      "Test Epoch 1: Average loss: 2.30415971, Accuracy: 903/10000 (9.0300%)\n",
      "\n",
      "\n",
      "===================\n",
      "\n",
      "{'S_1': '0-11', 'S_2': '0-01-001-0100'}\n"
     ]
    },
    {
     "output_type": "stream",
     "name": "stderr",
     "text": []
    },
    {
     "output_type": "stream",
     "name": "stdout",
     "text": [
      "\n",
      "Test Epoch 1: Average loss: 2.32055937, Accuracy: 791/10000 (7.9100%)\n",
      "\n",
      "\n",
      "===================\n",
      "\n",
      "{'S_1': '0-11', 'S_2': '0-01-001-0101'}\n"
     ]
    },
    {
     "output_type": "stream",
     "name": "stderr",
     "text": []
    },
    {
     "output_type": "stream",
     "name": "stdout",
     "text": [
      "\n",
      "Test Epoch 1: Average loss: 2.32032904, Accuracy: 795/10000 (7.9500%)\n",
      "\n",
      "\n",
      "===================\n",
      "\n",
      "{'S_1': '0-11', 'S_2': '0-01-001-0110'}\n"
     ]
    },
    {
     "output_type": "stream",
     "name": "stderr",
     "text": []
    },
    {
     "output_type": "stream",
     "name": "stdout",
     "text": [
      "\n",
      "Test Epoch 1: Average loss: 2.31200020, Accuracy: 872/10000 (8.7200%)\n",
      "\n",
      "\n",
      "===================\n",
      "\n",
      "{'S_1': '0-11', 'S_2': '0-01-001-0111'}\n"
     ]
    },
    {
     "output_type": "stream",
     "name": "stderr",
     "text": []
    },
    {
     "output_type": "stream",
     "name": "stdout",
     "text": [
      "\n",
      "Test Epoch 1: Average loss: 2.31177822, Accuracy: 868/10000 (8.6800%)\n",
      "\n",
      "\n",
      "===================\n",
      "\n",
      "{'S_1': '0-11', 'S_2': '0-01-001-1000'}\n"
     ]
    },
    {
     "output_type": "stream",
     "name": "stderr",
     "text": []
    },
    {
     "output_type": "stream",
     "name": "stdout",
     "text": [
      "\n",
      "Test Epoch 1: Average loss: 0.04782936, Accuracy: 9859/10000 (98.5900%)\n",
      "\n",
      "\n",
      "===================\n",
      "\n",
      "{'S_1': '0-11', 'S_2': '0-01-001-1001'}\n"
     ]
    },
    {
     "output_type": "stream",
     "name": "stderr",
     "text": []
    },
    {
     "output_type": "stream",
     "name": "stdout",
     "text": [
      "\n",
      "Test Epoch 1: Average loss: 0.04784842, Accuracy: 9859/10000 (98.5900%)\n",
      "\n",
      "\n",
      "===================\n",
      "\n",
      "{'S_1': '0-11', 'S_2': '0-01-001-1010'}\n"
     ]
    },
    {
     "output_type": "stream",
     "name": "stderr",
     "text": []
    },
    {
     "output_type": "stream",
     "name": "stdout",
     "text": [
      "\n",
      "Test Epoch 1: Average loss: 0.04825743, Accuracy: 9855/10000 (98.5500%)\n",
      "\n",
      "\n",
      "===================\n",
      "\n",
      "{'S_1': '0-11', 'S_2': '0-01-001-1011'}\n"
     ]
    },
    {
     "output_type": "stream",
     "name": "stderr",
     "text": []
    },
    {
     "output_type": "stream",
     "name": "stdout",
     "text": [
      "\n",
      "Test Epoch 1: Average loss: 0.04827800, Accuracy: 9855/10000 (98.5500%)\n",
      "\n",
      "\n",
      "===================\n",
      "\n",
      "{'S_1': '0-11', 'S_2': '0-01-001-1100'}\n"
     ]
    },
    {
     "output_type": "stream",
     "name": "stderr",
     "text": []
    },
    {
     "output_type": "stream",
     "name": "stdout",
     "text": [
      "\n",
      "Test Epoch 1: Average loss: 0.04813577, Accuracy: 9858/10000 (98.5800%)\n",
      "\n",
      "\n",
      "===================\n",
      "\n",
      "{'S_1': '0-11', 'S_2': '0-01-001-1101'}\n"
     ]
    },
    {
     "output_type": "stream",
     "name": "stderr",
     "text": []
    },
    {
     "output_type": "stream",
     "name": "stdout",
     "text": [
      "\n",
      "Test Epoch 1: Average loss: 0.04815662, Accuracy: 9858/10000 (98.5800%)\n",
      "\n",
      "\n",
      "===================\n",
      "\n",
      "{'S_1': '0-11', 'S_2': '0-01-001-1110'}\n"
     ]
    },
    {
     "output_type": "stream",
     "name": "stderr",
     "text": []
    },
    {
     "output_type": "stream",
     "name": "stdout",
     "text": [
      "\n",
      "Test Epoch 1: Average loss: 0.04862884, Accuracy: 9858/10000 (98.5800%)\n",
      "\n",
      "\n",
      "===================\n",
      "\n",
      "{'S_1': '0-11', 'S_2': '0-01-001-1111'}\n"
     ]
    },
    {
     "output_type": "stream",
     "name": "stderr",
     "text": []
    },
    {
     "output_type": "stream",
     "name": "stdout",
     "text": [
      "\n",
      "Test Epoch 1: Average loss: 0.04865180, Accuracy: 9858/10000 (98.5800%)\n",
      "\n",
      "\n",
      "===================\n",
      "\n",
      "{'S_1': '0-11', 'S_2': '0-01-010-0000'}\n"
     ]
    },
    {
     "output_type": "stream",
     "name": "stderr",
     "text": []
    },
    {
     "output_type": "stream",
     "name": "stdout",
     "text": [
      "\n",
      "Test Epoch 1: Average loss: 2.30061109, Accuracy: 1320/10000 (13.2000%)\n",
      "\n",
      "\n",
      "===================\n",
      "\n",
      "{'S_1': '0-11', 'S_2': '0-01-010-0001'}\n"
     ]
    },
    {
     "output_type": "stream",
     "name": "stderr",
     "text": []
    },
    {
     "output_type": "stream",
     "name": "stdout",
     "text": [
      "\n",
      "Test Epoch 1: Average loss: 2.30261147, Accuracy: 1099/10000 (10.9900%)\n",
      "\n",
      "\n",
      "===================\n",
      "\n",
      "{'S_1': '0-11', 'S_2': '0-01-010-0010'}\n"
     ]
    },
    {
     "output_type": "stream",
     "name": "stderr",
     "text": []
    },
    {
     "output_type": "stream",
     "name": "stdout",
     "text": [
      "\n",
      "Test Epoch 1: Average loss: 2.30333600, Accuracy: 866/10000 (8.6600%)\n",
      "\n",
      "\n",
      "===================\n",
      "\n",
      "{'S_1': '0-11', 'S_2': '0-01-010-0011'}\n"
     ]
    },
    {
     "output_type": "stream",
     "name": "stderr",
     "text": []
    },
    {
     "output_type": "stream",
     "name": "stdout",
     "text": [
      "\n",
      "Test Epoch 1: Average loss: 2.30378720, Accuracy: 957/10000 (9.5700%)\n",
      "\n",
      "\n",
      "===================\n",
      "\n",
      "{'S_1': '0-11', 'S_2': '0-01-010-0100'}\n"
     ]
    },
    {
     "output_type": "stream",
     "name": "stderr",
     "text": []
    },
    {
     "output_type": "stream",
     "name": "stdout",
     "text": [
      "\n",
      "Test Epoch 1: Average loss: 2.31357258, Accuracy: 682/10000 (6.8200%)\n",
      "\n",
      "\n",
      "===================\n",
      "\n",
      "{'S_1': '0-11', 'S_2': '0-01-010-0101'}\n"
     ]
    },
    {
     "output_type": "stream",
     "name": "stderr",
     "text": []
    },
    {
     "output_type": "stream",
     "name": "stdout",
     "text": [
      "\n",
      "Test Epoch 1: Average loss: 2.30876238, Accuracy: 880/10000 (8.8000%)\n",
      "\n",
      "\n",
      "===================\n",
      "\n",
      "{'S_1': '0-11', 'S_2': '0-01-010-0110'}\n"
     ]
    },
    {
     "output_type": "stream",
     "name": "stderr",
     "text": []
    },
    {
     "output_type": "stream",
     "name": "stdout",
     "text": [
      "\n",
      "Test Epoch 1: Average loss: 2.31039824, Accuracy: 711/10000 (7.1100%)\n",
      "\n",
      "\n",
      "===================\n",
      "\n",
      "{'S_1': '0-11', 'S_2': '0-01-010-0111'}\n"
     ]
    },
    {
     "output_type": "stream",
     "name": "stderr",
     "text": []
    },
    {
     "output_type": "stream",
     "name": "stdout",
     "text": [
      "\n",
      "Test Epoch 1: Average loss: 2.30836390, Accuracy: 888/10000 (8.8800%)\n",
      "\n",
      "\n",
      "===================\n",
      "\n",
      "{'S_1': '0-11', 'S_2': '0-01-010-1000'}\n"
     ]
    },
    {
     "output_type": "stream",
     "name": "stderr",
     "text": []
    },
    {
     "output_type": "stream",
     "name": "stdout",
     "text": [
      "\n",
      "Test Epoch 1: Average loss: 0.04793518, Accuracy: 9857/10000 (98.5700%)\n",
      "\n",
      "\n",
      "===================\n",
      "\n",
      "{'S_1': '0-11', 'S_2': '0-01-010-1001'}\n"
     ]
    },
    {
     "output_type": "stream",
     "name": "stderr",
     "text": []
    },
    {
     "output_type": "stream",
     "name": "stdout",
     "text": [
      "\n",
      "Test Epoch 1: Average loss: 0.04819402, Accuracy: 9857/10000 (98.5700%)\n",
      "\n",
      "\n",
      "===================\n",
      "\n",
      "{'S_1': '0-11', 'S_2': '0-01-010-1010'}\n"
     ]
    },
    {
     "output_type": "stream",
     "name": "stderr",
     "text": []
    },
    {
     "output_type": "stream",
     "name": "stdout",
     "text": [
      "\n",
      "Test Epoch 1: Average loss: 0.04830828, Accuracy: 9855/10000 (98.5500%)\n",
      "\n",
      "\n",
      "===================\n",
      "\n",
      "{'S_1': '0-11', 'S_2': '0-01-010-1011'}\n"
     ]
    },
    {
     "output_type": "stream",
     "name": "stderr",
     "text": []
    },
    {
     "output_type": "stream",
     "name": "stdout",
     "text": [
      "\n",
      "Test Epoch 1: Average loss: 0.04863442, Accuracy: 9855/10000 (98.5500%)\n",
      "\n",
      "\n",
      "===================\n",
      "\n",
      "{'S_1': '0-11', 'S_2': '0-01-010-1100'}\n"
     ]
    },
    {
     "output_type": "stream",
     "name": "stderr",
     "text": []
    },
    {
     "output_type": "stream",
     "name": "stdout",
     "text": [
      "\n",
      "Test Epoch 1: Average loss: 0.04825835, Accuracy: 9856/10000 (98.5600%)\n",
      "\n",
      "\n",
      "===================\n",
      "\n",
      "{'S_1': '0-11', 'S_2': '0-01-010-1101'}\n"
     ]
    },
    {
     "output_type": "stream",
     "name": "stderr",
     "text": []
    },
    {
     "output_type": "stream",
     "name": "stdout",
     "text": [
      "\n",
      "Test Epoch 1: Average loss: 0.04856980, Accuracy: 9856/10000 (98.5600%)\n",
      "\n",
      "\n",
      "===================\n",
      "\n",
      "{'S_1': '0-11', 'S_2': '0-01-010-1110'}\n"
     ]
    },
    {
     "output_type": "stream",
     "name": "stderr",
     "text": []
    },
    {
     "output_type": "stream",
     "name": "stdout",
     "text": [
      "\n",
      "Test Epoch 1: Average loss: 0.04868798, Accuracy: 9858/10000 (98.5800%)\n",
      "\n",
      "\n",
      "===================\n",
      "\n",
      "{'S_1': '0-11', 'S_2': '0-01-010-1111'}\n"
     ]
    },
    {
     "output_type": "stream",
     "name": "stderr",
     "text": []
    },
    {
     "output_type": "stream",
     "name": "stdout",
     "text": [
      "\n",
      "Test Epoch 1: Average loss: 0.04906465, Accuracy: 9856/10000 (98.5600%)\n",
      "\n",
      "\n",
      "===================\n",
      "\n",
      "{'S_1': '0-11', 'S_2': '0-01-011-0000'}\n"
     ]
    },
    {
     "output_type": "stream",
     "name": "stderr",
     "text": []
    },
    {
     "output_type": "stream",
     "name": "stdout",
     "text": [
      "\n",
      "Test Epoch 1: Average loss: 2.30401057, Accuracy: 991/10000 (9.9100%)\n",
      "\n",
      "\n",
      "===================\n",
      "\n",
      "{'S_1': '0-11', 'S_2': '0-01-011-0001'}\n"
     ]
    },
    {
     "output_type": "stream",
     "name": "stderr",
     "text": []
    },
    {
     "output_type": "stream",
     "name": "stdout",
     "text": [
      "\n",
      "Test Epoch 1: Average loss: 2.30450034, Accuracy: 1008/10000 (10.0800%)\n",
      "\n",
      "\n",
      "===================\n",
      "\n",
      "{'S_1': '0-11', 'S_2': '0-01-011-0010'}\n"
     ]
    },
    {
     "output_type": "stream",
     "name": "stderr",
     "text": []
    },
    {
     "output_type": "stream",
     "name": "stdout",
     "text": [
      "\n",
      "Test Epoch 1: Average loss: 2.30458260, Accuracy: 977/10000 (9.7700%)\n",
      "\n",
      "\n",
      "===================\n",
      "\n",
      "{'S_1': '0-11', 'S_2': '0-01-011-0011'}\n"
     ]
    },
    {
     "output_type": "stream",
     "name": "stderr",
     "text": []
    },
    {
     "output_type": "stream",
     "name": "stdout",
     "text": [
      "\n",
      "Test Epoch 1: Average loss: 2.30383129, Accuracy: 957/10000 (9.5700%)\n",
      "\n",
      "\n",
      "===================\n",
      "\n",
      "{'S_1': '0-11', 'S_2': '0-01-011-0100'}\n"
     ]
    },
    {
     "output_type": "stream",
     "name": "stderr",
     "text": []
    },
    {
     "output_type": "stream",
     "name": "stdout",
     "text": [
      "\n",
      "Test Epoch 1: Average loss: 2.31883571, Accuracy: 690/10000 (6.9000%)\n",
      "\n",
      "\n",
      "===================\n",
      "\n",
      "{'S_1': '0-11', 'S_2': '0-01-011-0101'}\n"
     ]
    },
    {
     "output_type": "stream",
     "name": "stderr",
     "text": []
    },
    {
     "output_type": "stream",
     "name": "stdout",
     "text": [
      "\n",
      "Test Epoch 1: Average loss: 2.31534506, Accuracy: 865/10000 (8.6500%)\n",
      "\n",
      "\n",
      "===================\n",
      "\n",
      "{'S_1': '0-11', 'S_2': '0-01-011-0110'}\n"
     ]
    },
    {
     "output_type": "stream",
     "name": "stderr",
     "text": []
    },
    {
     "output_type": "stream",
     "name": "stdout",
     "text": [
      "\n",
      "Test Epoch 1: Average loss: 2.31167165, Accuracy: 775/10000 (7.7500%)\n",
      "\n",
      "\n",
      "===================\n",
      "\n",
      "{'S_1': '0-11', 'S_2': '0-01-011-0111'}\n"
     ]
    },
    {
     "output_type": "stream",
     "name": "stderr",
     "text": []
    },
    {
     "output_type": "stream",
     "name": "stdout",
     "text": [
      "\n",
      "Test Epoch 1: Average loss: 2.30979233, Accuracy: 880/10000 (8.8000%)\n",
      "\n",
      "\n",
      "===================\n",
      "\n",
      "{'S_1': '0-11', 'S_2': '0-01-011-1000'}\n"
     ]
    },
    {
     "output_type": "stream",
     "name": "stderr",
     "text": []
    },
    {
     "output_type": "stream",
     "name": "stdout",
     "text": [
      "\n",
      "Test Epoch 1: Average loss: 0.04785455, Accuracy: 9858/10000 (98.5800%)\n",
      "\n",
      "\n",
      "===================\n",
      "\n",
      "{'S_1': '0-11', 'S_2': '0-01-011-1001'}\n"
     ]
    },
    {
     "output_type": "stream",
     "name": "stderr",
     "text": []
    },
    {
     "output_type": "stream",
     "name": "stdout",
     "text": [
      "\n",
      "Test Epoch 1: Average loss: 0.04800621, Accuracy: 9858/10000 (98.5800%)\n",
      "\n",
      "\n",
      "===================\n",
      "\n",
      "{'S_1': '0-11', 'S_2': '0-01-011-1010'}\n"
     ]
    },
    {
     "output_type": "stream",
     "name": "stderr",
     "text": []
    },
    {
     "output_type": "stream",
     "name": "stdout",
     "text": [
      "\n",
      "Test Epoch 1: Average loss: 0.04828862, Accuracy: 9855/10000 (98.5500%)\n",
      "\n",
      "\n",
      "===================\n",
      "\n",
      "{'S_1': '0-11', 'S_2': '0-01-011-1011'}\n"
     ]
    },
    {
     "output_type": "stream",
     "name": "stderr",
     "text": []
    },
    {
     "output_type": "stream",
     "name": "stdout",
     "text": [
      "\n",
      "Test Epoch 1: Average loss: 0.04845947, Accuracy: 9855/10000 (98.5500%)\n",
      "\n",
      "\n",
      "===================\n",
      "\n",
      "{'S_1': '0-11', 'S_2': '0-01-011-1100'}\n"
     ]
    },
    {
     "output_type": "stream",
     "name": "stderr",
     "text": []
    },
    {
     "output_type": "stream",
     "name": "stdout",
     "text": [
      "\n",
      "Test Epoch 1: Average loss: 0.04816836, Accuracy: 9858/10000 (98.5800%)\n",
      "\n",
      "\n",
      "===================\n",
      "\n",
      "{'S_1': '0-11', 'S_2': '0-01-011-1101'}\n"
     ]
    },
    {
     "output_type": "stream",
     "name": "stderr",
     "text": []
    },
    {
     "output_type": "stream",
     "name": "stdout",
     "text": [
      "\n",
      "Test Epoch 1: Average loss: 0.04834608, Accuracy: 9858/10000 (98.5800%)\n",
      "\n",
      "\n",
      "===================\n",
      "\n",
      "{'S_1': '0-11', 'S_2': '0-01-011-1110'}\n"
     ]
    },
    {
     "output_type": "stream",
     "name": "stderr",
     "text": []
    },
    {
     "output_type": "stream",
     "name": "stdout",
     "text": [
      "\n",
      "Test Epoch 1: Average loss: 0.04866645, Accuracy: 9858/10000 (98.5800%)\n",
      "\n",
      "\n",
      "===================\n",
      "\n",
      "{'S_1': '0-11', 'S_2': '0-01-011-1111'}\n"
     ]
    },
    {
     "output_type": "stream",
     "name": "stderr",
     "text": []
    },
    {
     "output_type": "stream",
     "name": "stdout",
     "text": [
      "\n",
      "Test Epoch 1: Average loss: 0.04886501, Accuracy: 9858/10000 (98.5800%)\n",
      "\n",
      "\n",
      "===================\n",
      "\n",
      "{'S_1': '0-11', 'S_2': '0-01-100-0000'}\n"
     ]
    },
    {
     "output_type": "stream",
     "name": "stderr",
     "text": []
    },
    {
     "output_type": "stream",
     "name": "stdout",
     "text": [
      "\n",
      "Test Epoch 1: Average loss: 2.51659257, Accuracy: 1157/10000 (11.5700%)\n",
      "\n",
      "\n",
      "===================\n",
      "\n",
      "{'S_1': '0-11', 'S_2': '0-01-100-0001'}\n"
     ]
    },
    {
     "output_type": "stream",
     "name": "stderr",
     "text": []
    },
    {
     "output_type": "stream",
     "name": "stdout",
     "text": [
      "\n",
      "Test Epoch 1: Average loss: 0.66050806, Accuracy: 9854/10000 (98.5400%)\n",
      "\n",
      "\n",
      "===================\n",
      "\n",
      "{'S_1': '0-11', 'S_2': '0-01-100-0010'}\n"
     ]
    },
    {
     "output_type": "stream",
     "name": "stderr",
     "text": []
    },
    {
     "output_type": "stream",
     "name": "stdout",
     "text": [
      "\n",
      "Test Epoch 1: Average loss: 2.52186518, Accuracy: 1153/10000 (11.5300%)\n",
      "\n",
      "\n",
      "===================\n",
      "\n",
      "{'S_1': '0-11', 'S_2': '0-01-100-0011'}\n"
     ]
    },
    {
     "output_type": "stream",
     "name": "stderr",
     "text": []
    },
    {
     "output_type": "stream",
     "name": "stdout",
     "text": [
      "\n",
      "Test Epoch 1: Average loss: 0.72126391, Accuracy: 9846/10000 (98.4600%)\n",
      "\n",
      "\n",
      "===================\n",
      "\n",
      "{'S_1': '0-11', 'S_2': '0-01-100-0100'}\n"
     ]
    },
    {
     "output_type": "stream",
     "name": "stderr",
     "text": []
    },
    {
     "output_type": "stream",
     "name": "stdout",
     "text": [
      "\n",
      "Test Epoch 1: Average loss: 2.53007786, Accuracy: 1160/10000 (11.6000%)\n",
      "\n",
      "\n",
      "===================\n",
      "\n",
      "{'S_1': '0-11', 'S_2': '0-01-100-0101'}\n"
     ]
    },
    {
     "output_type": "stream",
     "name": "stderr",
     "text": []
    },
    {
     "output_type": "stream",
     "name": "stdout",
     "text": [
      "\n",
      "Test Epoch 1: Average loss: 0.75462001, Accuracy: 9841/10000 (98.4100%)\n",
      "\n",
      "\n",
      "===================\n",
      "\n",
      "{'S_1': '0-11', 'S_2': '0-01-100-0110'}\n"
     ]
    },
    {
     "output_type": "stream",
     "name": "stderr",
     "text": []
    },
    {
     "output_type": "stream",
     "name": "stdout",
     "text": [
      "\n",
      "Test Epoch 1: Average loss: 2.52910282, Accuracy: 1159/10000 (11.5900%)\n",
      "\n",
      "\n",
      "===================\n",
      "\n",
      "{'S_1': '0-11', 'S_2': '0-01-100-0111'}\n"
     ]
    },
    {
     "output_type": "stream",
     "name": "stderr",
     "text": []
    },
    {
     "output_type": "stream",
     "name": "stdout",
     "text": [
      "\n",
      "Test Epoch 1: Average loss: 0.81676279, Accuracy: 9832/10000 (98.3200%)\n",
      "\n",
      "\n",
      "===================\n",
      "\n",
      "{'S_1': '0-11', 'S_2': '0-01-100-1000'}\n"
     ]
    },
    {
     "output_type": "stream",
     "name": "stderr",
     "text": []
    },
    {
     "output_type": "stream",
     "name": "stdout",
     "text": [
      "\n",
      "Test Epoch 1: Average loss: 0.04838654, Accuracy: 9861/10000 (98.6100%)\n",
      "\n",
      "\n",
      "===================\n",
      "\n",
      "{'S_1': '0-11', 'S_2': '0-01-100-1001'}\n"
     ]
    },
    {
     "output_type": "stream",
     "name": "stderr",
     "text": []
    },
    {
     "output_type": "stream",
     "name": "stdout",
     "text": [
      "\n",
      "Test Epoch 1: Average loss: 0.04242500, Accuracy: 9881/10000 (98.8100%)\n",
      "\n",
      "\n",
      "===================\n",
      "\n",
      "{'S_1': '0-11', 'S_2': '0-01-100-1010'}\n"
     ]
    },
    {
     "output_type": "stream",
     "name": "stderr",
     "text": []
    },
    {
     "output_type": "stream",
     "name": "stdout",
     "text": [
      "\n",
      "Test Epoch 1: Average loss: 0.04877841, Accuracy: 9860/10000 (98.6000%)\n",
      "\n",
      "\n",
      "===================\n",
      "\n",
      "{'S_1': '0-11', 'S_2': '0-01-100-1011'}\n"
     ]
    },
    {
     "output_type": "stream",
     "name": "stderr",
     "text": []
    },
    {
     "output_type": "stream",
     "name": "stdout",
     "text": [
      "\n",
      "Test Epoch 1: Average loss: 0.04254425, Accuracy: 9882/10000 (98.8200%)\n",
      "\n",
      "\n",
      "===================\n",
      "\n",
      "{'S_1': '0-11', 'S_2': '0-01-100-1100'}\n"
     ]
    },
    {
     "output_type": "stream",
     "name": "stderr",
     "text": []
    },
    {
     "output_type": "stream",
     "name": "stdout",
     "text": [
      "\n",
      "Test Epoch 1: Average loss: 0.04887399, Accuracy: 9861/10000 (98.6100%)\n",
      "\n",
      "\n",
      "===================\n",
      "\n",
      "{'S_1': '0-11', 'S_2': '0-01-100-1101'}\n"
     ]
    },
    {
     "output_type": "stream",
     "name": "stderr",
     "text": []
    },
    {
     "output_type": "stream",
     "name": "stdout",
     "text": [
      "\n",
      "Test Epoch 1: Average loss: 0.04247337, Accuracy: 9881/10000 (98.8100%)\n",
      "\n",
      "\n",
      "===================\n",
      "\n",
      "{'S_1': '0-11', 'S_2': '0-01-100-1110'}\n"
     ]
    },
    {
     "output_type": "stream",
     "name": "stderr",
     "text": []
    },
    {
     "output_type": "stream",
     "name": "stdout",
     "text": [
      "\n",
      "Test Epoch 1: Average loss: 0.04932830, Accuracy: 9858/10000 (98.5800%)\n",
      "\n",
      "\n",
      "===================\n",
      "\n",
      "{'S_1': '0-11', 'S_2': '0-01-100-1111'}\n"
     ]
    },
    {
     "output_type": "stream",
     "name": "stderr",
     "text": []
    },
    {
     "output_type": "stream",
     "name": "stdout",
     "text": [
      "\n",
      "Test Epoch 1: Average loss: 0.04260056, Accuracy: 9878/10000 (98.7800%)\n",
      "\n",
      "\n",
      "===================\n",
      "\n",
      "{'S_1': '0-11', 'S_2': '0-01-101-0000'}\n"
     ]
    },
    {
     "output_type": "stream",
     "name": "stderr",
     "text": []
    },
    {
     "output_type": "stream",
     "name": "stdout",
     "text": [
      "\n",
      "Test Epoch 1: Average loss: 2.51710522, Accuracy: 1156/10000 (11.5600%)\n",
      "\n",
      "\n",
      "===================\n",
      "\n",
      "{'S_1': '0-11', 'S_2': '0-01-101-0001'}\n"
     ]
    },
    {
     "output_type": "stream",
     "name": "stderr",
     "text": []
    },
    {
     "output_type": "stream",
     "name": "stdout",
     "text": [
      "\n",
      "Test Epoch 1: Average loss: 0.64482431, Accuracy: 9854/10000 (98.5400%)\n",
      "\n",
      "\n",
      "===================\n",
      "\n",
      "{'S_1': '0-11', 'S_2': '0-01-101-0010'}\n"
     ]
    },
    {
     "output_type": "stream",
     "name": "stderr",
     "text": []
    },
    {
     "output_type": "stream",
     "name": "stdout",
     "text": [
      "\n",
      "Test Epoch 1: Average loss: 2.51762304, Accuracy: 1158/10000 (11.5800%)\n",
      "\n",
      "\n",
      "===================\n",
      "\n",
      "{'S_1': '0-11', 'S_2': '0-01-101-0011'}\n"
     ]
    },
    {
     "output_type": "stream",
     "name": "stderr",
     "text": []
    },
    {
     "output_type": "stream",
     "name": "stdout",
     "text": [
      "\n",
      "Test Epoch 1: Average loss: 0.73144494, Accuracy: 9848/10000 (98.4800%)\n",
      "\n",
      "\n",
      "===================\n",
      "\n",
      "{'S_1': '0-11', 'S_2': '0-01-101-0100'}\n"
     ]
    },
    {
     "output_type": "stream",
     "name": "stderr",
     "text": []
    },
    {
     "output_type": "stream",
     "name": "stdout",
     "text": [
      "\n",
      "Test Epoch 1: Average loss: 2.52866559, Accuracy: 1145/10000 (11.4500%)\n",
      "\n",
      "\n",
      "===================\n",
      "\n",
      "{'S_1': '0-11', 'S_2': '0-01-101-0101'}\n"
     ]
    },
    {
     "output_type": "stream",
     "name": "stderr",
     "text": []
    },
    {
     "output_type": "stream",
     "name": "stdout",
     "text": [
      "\n",
      "Test Epoch 1: Average loss: 0.73727363, Accuracy: 9839/10000 (98.3900%)\n",
      "\n",
      "\n",
      "===================\n",
      "\n",
      "{'S_1': '0-11', 'S_2': '0-01-101-0110'}\n"
     ]
    },
    {
     "output_type": "stream",
     "name": "stderr",
     "text": []
    },
    {
     "output_type": "stream",
     "name": "stdout",
     "text": [
      "\n",
      "Test Epoch 1: Average loss: 2.52460194, Accuracy: 1164/10000 (11.6400%)\n",
      "\n",
      "\n",
      "===================\n",
      "\n",
      "{'S_1': '0-11', 'S_2': '0-01-101-0111'}\n"
     ]
    },
    {
     "output_type": "stream",
     "name": "stderr",
     "text": []
    },
    {
     "output_type": "stream",
     "name": "stdout",
     "text": [
      "\n",
      "Test Epoch 1: Average loss: 0.82850831, Accuracy: 9832/10000 (98.3200%)\n",
      "\n",
      "\n",
      "===================\n",
      "\n",
      "{'S_1': '0-11', 'S_2': '0-01-101-1000'}\n"
     ]
    },
    {
     "output_type": "stream",
     "name": "stderr",
     "text": []
    },
    {
     "output_type": "stream",
     "name": "stdout",
     "text": [
      "\n",
      "Test Epoch 1: Average loss: 0.04814679, Accuracy: 9862/10000 (98.6200%)\n",
      "\n",
      "\n",
      "===================\n",
      "\n",
      "{'S_1': '0-11', 'S_2': '0-01-101-1001'}\n"
     ]
    },
    {
     "output_type": "stream",
     "name": "stderr",
     "text": []
    },
    {
     "output_type": "stream",
     "name": "stdout",
     "text": [
      "\n",
      "Test Epoch 1: Average loss: 0.04254455, Accuracy: 9881/10000 (98.8100%)\n",
      "\n",
      "\n",
      "===================\n",
      "\n",
      "{'S_1': '0-11', 'S_2': '0-01-101-1010'}\n"
     ]
    },
    {
     "output_type": "stream",
     "name": "stderr",
     "text": []
    },
    {
     "output_type": "stream",
     "name": "stdout",
     "text": [
      "\n",
      "Test Epoch 1: Average loss: 0.04869946, Accuracy: 9860/10000 (98.6000%)\n",
      "\n",
      "\n",
      "===================\n",
      "\n",
      "{'S_1': '0-11', 'S_2': '0-01-101-1011'}\n"
     ]
    },
    {
     "output_type": "stream",
     "name": "stderr",
     "text": []
    },
    {
     "output_type": "stream",
     "name": "stdout",
     "text": [
      "\n",
      "Test Epoch 1: Average loss: 0.04263072, Accuracy: 9880/10000 (98.8000%)\n",
      "\n",
      "\n",
      "===================\n",
      "\n",
      "{'S_1': '0-11', 'S_2': '0-01-101-1100'}\n"
     ]
    },
    {
     "output_type": "stream",
     "name": "stderr",
     "text": []
    },
    {
     "output_type": "stream",
     "name": "stdout",
     "text": [
      "\n",
      "Test Epoch 1: Average loss: 0.04861277, Accuracy: 9860/10000 (98.6000%)\n",
      "\n",
      "\n",
      "===================\n",
      "\n",
      "{'S_1': '0-11', 'S_2': '0-01-101-1101'}\n"
     ]
    },
    {
     "output_type": "stream",
     "name": "stderr",
     "text": []
    },
    {
     "output_type": "stream",
     "name": "stdout",
     "text": [
      "\n",
      "Test Epoch 1: Average loss: 0.04258331, Accuracy: 9877/10000 (98.7700%)\n",
      "\n",
      "\n",
      "===================\n",
      "\n",
      "{'S_1': '0-11', 'S_2': '0-01-101-1110'}\n"
     ]
    },
    {
     "output_type": "stream",
     "name": "stderr",
     "text": []
    },
    {
     "output_type": "stream",
     "name": "stdout",
     "text": [
      "\n",
      "Test Epoch 1: Average loss: 0.04924523, Accuracy: 9859/10000 (98.5900%)\n",
      "\n",
      "\n",
      "===================\n",
      "\n",
      "{'S_1': '0-11', 'S_2': '0-01-101-1111'}\n"
     ]
    },
    {
     "output_type": "stream",
     "name": "stderr",
     "text": []
    },
    {
     "output_type": "stream",
     "name": "stdout",
     "text": [
      "\n",
      "Test Epoch 1: Average loss: 0.04268895, Accuracy: 9878/10000 (98.7800%)\n",
      "\n",
      "\n",
      "===================\n",
      "\n",
      "{'S_1': '0-11', 'S_2': '0-01-110-0000'}\n"
     ]
    },
    {
     "output_type": "stream",
     "name": "stderr",
     "text": []
    },
    {
     "output_type": "stream",
     "name": "stdout",
     "text": [
      "\n",
      "Test Epoch 1: Average loss: 2.51055636, Accuracy: 1165/10000 (11.6500%)\n",
      "\n",
      "\n",
      "===================\n",
      "\n",
      "{'S_1': '0-11', 'S_2': '0-01-110-0001'}\n"
     ]
    },
    {
     "output_type": "stream",
     "name": "stderr",
     "text": []
    },
    {
     "output_type": "stream",
     "name": "stdout",
     "text": [
      "\n",
      "Test Epoch 1: Average loss: 0.67045106, Accuracy: 9850/10000 (98.5000%)\n",
      "\n",
      "\n",
      "===================\n",
      "\n",
      "{'S_1': '0-11', 'S_2': '0-01-110-0010'}\n"
     ]
    },
    {
     "output_type": "stream",
     "name": "stderr",
     "text": []
    },
    {
     "output_type": "stream",
     "name": "stdout",
     "text": [
      "\n",
      "Test Epoch 1: Average loss: 2.51578931, Accuracy: 1160/10000 (11.6000%)\n",
      "\n",
      "\n",
      "===================\n",
      "\n",
      "{'S_1': '0-11', 'S_2': '0-01-110-0011'}\n"
     ]
    },
    {
     "output_type": "stream",
     "name": "stderr",
     "text": []
    },
    {
     "output_type": "stream",
     "name": "stdout",
     "text": [
      "\n",
      "Test Epoch 1: Average loss: 0.73240038, Accuracy: 9845/10000 (98.4500%)\n",
      "\n",
      "\n",
      "===================\n",
      "\n",
      "{'S_1': '0-11', 'S_2': '0-01-110-0100'}\n"
     ]
    },
    {
     "output_type": "stream",
     "name": "stderr",
     "text": []
    },
    {
     "output_type": "stream",
     "name": "stdout",
     "text": [
      "\n",
      "Test Epoch 1: Average loss: 2.52375950, Accuracy: 1152/10000 (11.5200%)\n",
      "\n",
      "\n",
      "===================\n",
      "\n",
      "{'S_1': '0-11', 'S_2': '0-01-110-0101'}\n"
     ]
    },
    {
     "output_type": "stream",
     "name": "stderr",
     "text": []
    },
    {
     "output_type": "stream",
     "name": "stdout",
     "text": [
      "\n",
      "Test Epoch 1: Average loss: 0.76607062, Accuracy: 9837/10000 (98.3700%)\n",
      "\n",
      "\n",
      "===================\n",
      "\n",
      "{'S_1': '0-11', 'S_2': '0-01-110-0110'}\n"
     ]
    },
    {
     "output_type": "stream",
     "name": "stderr",
     "text": []
    },
    {
     "output_type": "stream",
     "name": "stdout",
     "text": [
      "\n",
      "Test Epoch 1: Average loss: 2.52286383, Accuracy: 1168/10000 (11.6800%)\n",
      "\n",
      "\n",
      "===================\n",
      "\n",
      "{'S_1': '0-11', 'S_2': '0-01-110-0111'}\n"
     ]
    },
    {
     "output_type": "stream",
     "name": "stderr",
     "text": []
    },
    {
     "output_type": "stream",
     "name": "stdout",
     "text": [
      "\n",
      "Test Epoch 1: Average loss: 0.82931601, Accuracy: 9825/10000 (98.2500%)\n",
      "\n",
      "\n",
      "===================\n",
      "\n",
      "{'S_1': '0-11', 'S_2': '0-01-110-1000'}\n"
     ]
    },
    {
     "output_type": "stream",
     "name": "stderr",
     "text": []
    },
    {
     "output_type": "stream",
     "name": "stdout",
     "text": [
      "\n",
      "Test Epoch 1: Average loss: 0.04836638, Accuracy: 9861/10000 (98.6100%)\n",
      "\n",
      "\n",
      "===================\n",
      "\n",
      "{'S_1': '0-11', 'S_2': '0-01-110-1001'}\n"
     ]
    },
    {
     "output_type": "stream",
     "name": "stderr",
     "text": []
    },
    {
     "output_type": "stream",
     "name": "stdout",
     "text": [
      "\n",
      "Test Epoch 1: Average loss: 0.04252078, Accuracy: 9880/10000 (98.8000%)\n",
      "\n",
      "\n",
      "===================\n",
      "\n",
      "{'S_1': '0-11', 'S_2': '0-01-110-1010'}\n"
     ]
    },
    {
     "output_type": "stream",
     "name": "stderr",
     "text": []
    },
    {
     "output_type": "stream",
     "name": "stdout",
     "text": [
      "\n",
      "Test Epoch 1: Average loss: 0.04875761, Accuracy: 9860/10000 (98.6000%)\n",
      "\n",
      "\n",
      "===================\n",
      "\n",
      "{'S_1': '0-11', 'S_2': '0-01-110-1011'}\n"
     ]
    },
    {
     "output_type": "stream",
     "name": "stderr",
     "text": []
    },
    {
     "output_type": "stream",
     "name": "stdout",
     "text": [
      "\n",
      "Test Epoch 1: Average loss: 0.04264261, Accuracy: 9880/10000 (98.8000%)\n",
      "\n",
      "\n",
      "===================\n",
      "\n",
      "{'S_1': '0-11', 'S_2': '0-01-110-1100'}\n"
     ]
    },
    {
     "output_type": "stream",
     "name": "stderr",
     "text": []
    },
    {
     "output_type": "stream",
     "name": "stdout",
     "text": [
      "\n",
      "Test Epoch 1: Average loss: 0.04884758, Accuracy: 9862/10000 (98.6200%)\n",
      "\n",
      "\n",
      "===================\n",
      "\n",
      "{'S_1': '0-11', 'S_2': '0-01-110-1101'}\n"
     ]
    },
    {
     "output_type": "stream",
     "name": "stderr",
     "text": []
    },
    {
     "output_type": "stream",
     "name": "stdout",
     "text": [
      "\n",
      "Test Epoch 1: Average loss: 0.04257697, Accuracy: 9878/10000 (98.7800%)\n",
      "\n",
      "\n",
      "===================\n",
      "\n",
      "{'S_1': '0-11', 'S_2': '0-01-110-1110'}\n"
     ]
    },
    {
     "output_type": "stream",
     "name": "stderr",
     "text": []
    },
    {
     "output_type": "stream",
     "name": "stdout",
     "text": [
      "\n",
      "Test Epoch 1: Average loss: 0.04930619, Accuracy: 9860/10000 (98.6000%)\n",
      "\n",
      "\n",
      "===================\n",
      "\n",
      "{'S_1': '0-11', 'S_2': '0-01-110-1111'}\n"
     ]
    },
    {
     "output_type": "stream",
     "name": "stderr",
     "text": []
    },
    {
     "output_type": "stream",
     "name": "stdout",
     "text": [
      "\n",
      "Test Epoch 1: Average loss: 0.04270514, Accuracy: 9877/10000 (98.7700%)\n",
      "\n",
      "\n",
      "===================\n",
      "\n",
      "{'S_1': '0-11', 'S_2': '0-01-111-0000'}\n"
     ]
    },
    {
     "output_type": "stream",
     "name": "stderr",
     "text": []
    },
    {
     "output_type": "stream",
     "name": "stdout",
     "text": [
      "\n",
      "Test Epoch 1: Average loss: 2.51110136, Accuracy: 1164/10000 (11.6400%)\n",
      "\n",
      "\n",
      "===================\n",
      "\n",
      "{'S_1': '0-11', 'S_2': '0-01-111-0001'}\n"
     ]
    },
    {
     "output_type": "stream",
     "name": "stderr",
     "text": []
    },
    {
     "output_type": "stream",
     "name": "stdout",
     "text": [
      "\n",
      "Test Epoch 1: Average loss: 0.65501857, Accuracy: 9852/10000 (98.5200%)\n",
      "\n",
      "\n",
      "===================\n",
      "\n",
      "{'S_1': '0-11', 'S_2': '0-01-111-0010'}\n"
     ]
    },
    {
     "output_type": "stream",
     "name": "stderr",
     "text": []
    },
    {
     "output_type": "stream",
     "name": "stdout",
     "text": [
      "\n",
      "Test Epoch 1: Average loss: 2.51161592, Accuracy: 1166/10000 (11.6600%)\n",
      "\n",
      "\n",
      "===================\n",
      "\n",
      "{'S_1': '0-11', 'S_2': '0-01-111-0011'}\n"
     ]
    },
    {
     "output_type": "stream",
     "name": "stderr",
     "text": []
    },
    {
     "output_type": "stream",
     "name": "stdout",
     "text": [
      "\n",
      "Test Epoch 1: Average loss: 0.74309152, Accuracy: 9848/10000 (98.4800%)\n",
      "\n",
      "\n",
      "===================\n",
      "\n",
      "{'S_1': '0-11', 'S_2': '0-01-111-0100'}\n"
     ]
    },
    {
     "output_type": "stream",
     "name": "stderr",
     "text": []
    },
    {
     "output_type": "stream",
     "name": "stdout",
     "text": [
      "\n",
      "Test Epoch 1: Average loss: 2.52242994, Accuracy: 1149/10000 (11.4900%)\n",
      "\n",
      "\n",
      "===================\n",
      "\n",
      "{'S_1': '0-11', 'S_2': '0-01-111-0101'}\n"
     ]
    },
    {
     "output_type": "stream",
     "name": "stderr",
     "text": []
    },
    {
     "output_type": "stream",
     "name": "stdout",
     "text": [
      "\n",
      "Test Epoch 1: Average loss: 0.74903951, Accuracy: 9830/10000 (98.3000%)\n",
      "\n",
      "\n",
      "===================\n",
      "\n",
      "{'S_1': '0-11', 'S_2': '0-01-111-0110'}\n"
     ]
    },
    {
     "output_type": "stream",
     "name": "stderr",
     "text": []
    },
    {
     "output_type": "stream",
     "name": "stdout",
     "text": [
      "\n",
      "Test Epoch 1: Average loss: 2.51844779, Accuracy: 1172/10000 (11.7200%)\n",
      "\n",
      "\n",
      "===================\n",
      "\n",
      "{'S_1': '0-11', 'S_2': '0-01-111-0111'}\n"
     ]
    },
    {
     "output_type": "stream",
     "name": "stderr",
     "text": []
    },
    {
     "output_type": "stream",
     "name": "stdout",
     "text": [
      "\n",
      "Test Epoch 1: Average loss: 0.84157089, Accuracy: 9824/10000 (98.2400%)\n",
      "\n",
      "\n",
      "===================\n",
      "\n",
      "{'S_1': '0-11', 'S_2': '0-01-111-1000'}\n"
     ]
    },
    {
     "output_type": "stream",
     "name": "stderr",
     "text": []
    },
    {
     "output_type": "stream",
     "name": "stdout",
     "text": [
      "\n",
      "Test Epoch 1: Average loss: 0.04813323, Accuracy: 9863/10000 (98.6300%)\n",
      "\n",
      "\n",
      "===================\n",
      "\n",
      "{'S_1': '0-11', 'S_2': '0-01-111-1001'}\n"
     ]
    },
    {
     "output_type": "stream",
     "name": "stderr",
     "text": []
    },
    {
     "output_type": "stream",
     "name": "stdout",
     "text": [
      "\n",
      "Test Epoch 1: Average loss: 0.04263958, Accuracy: 9881/10000 (98.8100%)\n",
      "\n",
      "\n",
      "===================\n",
      "\n",
      "{'S_1': '0-11', 'S_2': '0-01-111-1010'}\n"
     ]
    },
    {
     "output_type": "stream",
     "name": "stderr",
     "text": []
    },
    {
     "output_type": "stream",
     "name": "stdout",
     "text": [
      "\n",
      "Test Epoch 1: Average loss: 0.04868570, Accuracy: 9862/10000 (98.6200%)\n",
      "\n",
      "\n",
      "===================\n",
      "\n",
      "{'S_1': '0-11', 'S_2': '0-01-111-1011'}\n"
     ]
    },
    {
     "output_type": "stream",
     "name": "stderr",
     "text": []
    },
    {
     "output_type": "stream",
     "name": "stdout",
     "text": [
      "\n",
      "Test Epoch 1: Average loss: 0.04272912, Accuracy: 9879/10000 (98.7900%)\n",
      "\n",
      "\n",
      "===================\n",
      "\n",
      "{'S_1': '0-11', 'S_2': '0-01-111-1100'}\n"
     ]
    },
    {
     "output_type": "stream",
     "name": "stderr",
     "text": []
    },
    {
     "output_type": "stream",
     "name": "stdout",
     "text": [
      "\n",
      "Test Epoch 1: Average loss: 0.04859774, Accuracy: 9861/10000 (98.6100%)\n",
      "\n",
      "\n",
      "===================\n",
      "\n",
      "{'S_1': '0-11', 'S_2': '0-01-111-1101'}\n"
     ]
    },
    {
     "output_type": "stream",
     "name": "stderr",
     "text": []
    },
    {
     "output_type": "stream",
     "name": "stdout",
     "text": [
      "\n",
      "Test Epoch 1: Average loss: 0.04268666, Accuracy: 9877/10000 (98.7700%)\n",
      "\n",
      "\n",
      "===================\n",
      "\n",
      "{'S_1': '0-11', 'S_2': '0-01-111-1110'}\n"
     ]
    },
    {
     "output_type": "stream",
     "name": "stderr",
     "text": []
    },
    {
     "output_type": "stream",
     "name": "stdout",
     "text": [
      "\n",
      "Test Epoch 1: Average loss: 0.04922671, Accuracy: 9859/10000 (98.5900%)\n",
      "\n",
      "\n",
      "===================\n",
      "\n",
      "{'S_1': '0-11', 'S_2': '0-01-111-1111'}\n"
     ]
    },
    {
     "output_type": "stream",
     "name": "stderr",
     "text": []
    },
    {
     "output_type": "stream",
     "name": "stdout",
     "text": [
      "\n",
      "Test Epoch 1: Average loss: 0.04279571, Accuracy: 9877/10000 (98.7700%)\n",
      "\n",
      "\n",
      "===================\n",
      "\n",
      "{'S_1': '0-11', 'S_2': '0-10-000-0000'}\n"
     ]
    },
    {
     "output_type": "stream",
     "name": "stderr",
     "text": []
    },
    {
     "output_type": "stream",
     "name": "stdout",
     "text": [
      "\n",
      "Test Epoch 1: Average loss: 2.42854253, Accuracy: 911/10000 (9.1100%)\n",
      "\n",
      "\n",
      "===================\n",
      "\n",
      "{'S_1': '0-11', 'S_2': '0-10-000-0001'}\n"
     ]
    },
    {
     "output_type": "stream",
     "name": "stderr",
     "text": []
    },
    {
     "output_type": "stream",
     "name": "stdout",
     "text": [
      "\n",
      "Test Epoch 1: Average loss: 2.42599272, Accuracy: 912/10000 (9.1200%)\n",
      "\n",
      "\n",
      "===================\n",
      "\n",
      "{'S_1': '0-11', 'S_2': '0-10-000-0010'}\n"
     ]
    },
    {
     "output_type": "stream",
     "name": "stderr",
     "text": []
    },
    {
     "output_type": "stream",
     "name": "stdout",
     "text": [
      "\n",
      "Test Epoch 1: Average loss: 0.67952682, Accuracy: 9859/10000 (98.5900%)\n",
      "\n",
      "\n",
      "===================\n",
      "\n",
      "{'S_1': '0-11', 'S_2': '0-10-000-0011'}\n"
     ]
    },
    {
     "output_type": "stream",
     "name": "stderr",
     "text": []
    },
    {
     "output_type": "stream",
     "name": "stdout",
     "text": [
      "\n",
      "Test Epoch 1: Average loss: 0.75667141, Accuracy: 9841/10000 (98.4100%)\n",
      "\n",
      "\n",
      "===================\n",
      "\n",
      "{'S_1': '0-11', 'S_2': '0-10-000-0100'}\n"
     ]
    },
    {
     "output_type": "stream",
     "name": "stderr",
     "text": []
    },
    {
     "output_type": "stream",
     "name": "stdout",
     "text": [
      "\n",
      "Test Epoch 1: Average loss: 2.44214248, Accuracy: 850/10000 (8.5000%)\n",
      "\n",
      "\n",
      "===================\n",
      "\n",
      "{'S_1': '0-11', 'S_2': '0-10-000-0101'}\n"
     ]
    },
    {
     "output_type": "stream",
     "name": "stderr",
     "text": []
    },
    {
     "output_type": "stream",
     "name": "stdout",
     "text": [
      "\n",
      "Test Epoch 1: Average loss: 2.43774443, Accuracy: 861/10000 (8.6100%)\n",
      "\n",
      "\n",
      "===================\n",
      "\n",
      "{'S_1': '0-11', 'S_2': '0-10-000-0110'}\n"
     ]
    },
    {
     "output_type": "stream",
     "name": "stderr",
     "text": []
    },
    {
     "output_type": "stream",
     "name": "stdout",
     "text": [
      "\n",
      "Test Epoch 1: Average loss: 0.77596078, Accuracy: 9859/10000 (98.5900%)\n",
      "\n",
      "\n",
      "===================\n",
      "\n",
      "{'S_1': '0-11', 'S_2': '0-10-000-0111'}\n"
     ]
    },
    {
     "output_type": "stream",
     "name": "stderr",
     "text": []
    },
    {
     "output_type": "stream",
     "name": "stdout",
     "text": [
      "\n",
      "Test Epoch 1: Average loss: 0.85500527, Accuracy: 9839/10000 (98.3900%)\n",
      "\n",
      "\n",
      "===================\n",
      "\n",
      "{'S_1': '0-11', 'S_2': '0-10-000-1000'}\n"
     ]
    },
    {
     "output_type": "stream",
     "name": "stderr",
     "text": []
    },
    {
     "output_type": "stream",
     "name": "stdout",
     "text": [
      "\n",
      "Test Epoch 1: Average loss: 0.04819999, Accuracy: 9856/10000 (98.5600%)\n",
      "\n",
      "\n",
      "===================\n",
      "\n",
      "{'S_1': '0-11', 'S_2': '0-10-000-1001'}\n"
     ]
    },
    {
     "output_type": "stream",
     "name": "stderr",
     "text": []
    },
    {
     "output_type": "stream",
     "name": "stdout",
     "text": [
      "\n",
      "Test Epoch 1: Average loss: 0.04867688, Accuracy: 9856/10000 (98.5600%)\n",
      "\n",
      "\n",
      "===================\n",
      "\n",
      "{'S_1': '0-11', 'S_2': '0-10-000-1010'}\n"
     ]
    },
    {
     "output_type": "stream",
     "name": "stderr",
     "text": []
    },
    {
     "output_type": "stream",
     "name": "stdout",
     "text": [
      "\n",
      "Test Epoch 1: Average loss: 0.04325635, Accuracy: 9872/10000 (98.7200%)\n",
      "\n",
      "\n",
      "===================\n",
      "\n",
      "{'S_1': '0-11', 'S_2': '0-10-000-1011'}\n"
     ]
    },
    {
     "output_type": "stream",
     "name": "stderr",
     "text": []
    },
    {
     "output_type": "stream",
     "name": "stdout",
     "text": [
      "\n",
      "Test Epoch 1: Average loss: 0.04328293, Accuracy: 9871/10000 (98.7100%)\n",
      "\n",
      "\n",
      "===================\n",
      "\n",
      "{'S_1': '0-11', 'S_2': '0-10-000-1100'}\n"
     ]
    },
    {
     "output_type": "stream",
     "name": "stderr",
     "text": []
    },
    {
     "output_type": "stream",
     "name": "stdout",
     "text": [
      "\n",
      "Test Epoch 1: Average loss: 0.04872438, Accuracy: 9853/10000 (98.5300%)\n",
      "\n",
      "\n",
      "===================\n",
      "\n",
      "{'S_1': '0-11', 'S_2': '0-10-000-1101'}\n"
     ]
    },
    {
     "output_type": "stream",
     "name": "stderr",
     "text": []
    },
    {
     "output_type": "stream",
     "name": "stdout",
     "text": [
      "\n",
      "Test Epoch 1: Average loss: 0.04926648, Accuracy: 9854/10000 (98.5400%)\n",
      "\n",
      "\n",
      "===================\n",
      "\n",
      "{'S_1': '0-11', 'S_2': '0-10-000-1110'}\n"
     ]
    },
    {
     "output_type": "stream",
     "name": "stderr",
     "text": []
    },
    {
     "output_type": "stream",
     "name": "stdout",
     "text": [
      "\n",
      "Test Epoch 1: Average loss: 0.04327107, Accuracy: 9874/10000 (98.7400%)\n",
      "\n",
      "\n",
      "===================\n",
      "\n",
      "{'S_1': '0-11', 'S_2': '0-10-000-1111'}\n"
     ]
    },
    {
     "output_type": "stream",
     "name": "stderr",
     "text": []
    },
    {
     "output_type": "stream",
     "name": "stdout",
     "text": [
      "\n",
      "Test Epoch 1: Average loss: 0.04332173, Accuracy: 9873/10000 (98.7300%)\n",
      "\n",
      "\n",
      "===================\n",
      "\n",
      "{'S_1': '0-11', 'S_2': '0-10-001-0000'}\n"
     ]
    },
    {
     "output_type": "stream",
     "name": "stderr",
     "text": []
    },
    {
     "output_type": "stream",
     "name": "stdout",
     "text": [
      "\n",
      "Test Epoch 1: Average loss: 2.32626073, Accuracy: 1206/10000 (12.0600%)\n",
      "\n",
      "\n",
      "===================\n",
      "\n",
      "{'S_1': '0-11', 'S_2': '0-10-001-0001'}\n"
     ]
    },
    {
     "output_type": "stream",
     "name": "stderr",
     "text": []
    },
    {
     "output_type": "stream",
     "name": "stdout",
     "text": [
      "\n",
      "Test Epoch 1: Average loss: 2.09774352, Accuracy: 7485/10000 (74.8500%)\n",
      "\n",
      "\n",
      "===================\n",
      "\n",
      "{'S_1': '0-11', 'S_2': '0-10-001-0010'}\n"
     ]
    },
    {
     "output_type": "stream",
     "name": "stderr",
     "text": []
    },
    {
     "output_type": "stream",
     "name": "stdout",
     "text": [
      "\n",
      "Test Epoch 1: Average loss: 0.76269822, Accuracy: 9882/10000 (98.8200%)\n",
      "\n",
      "\n",
      "===================\n",
      "\n",
      "{'S_1': '0-11', 'S_2': '0-10-001-0011'}\n"
     ]
    },
    {
     "output_type": "stream",
     "name": "stderr",
     "text": []
    },
    {
     "output_type": "stream",
     "name": "stdout",
     "text": [
      "\n",
      "Test Epoch 1: Average loss: 0.65833797, Accuracy: 9871/10000 (98.7100%)\n",
      "\n",
      "\n",
      "===================\n",
      "\n",
      "{'S_1': '0-11', 'S_2': '0-10-001-0100'}\n"
     ]
    },
    {
     "output_type": "stream",
     "name": "stderr",
     "text": []
    },
    {
     "output_type": "stream",
     "name": "stdout",
     "text": [
      "\n",
      "Test Epoch 1: Average loss: 2.32942440, Accuracy: 1331/10000 (13.3100%)\n",
      "\n",
      "\n",
      "===================\n",
      "\n",
      "{'S_1': '0-11', 'S_2': '0-10-001-0101'}\n"
     ]
    },
    {
     "output_type": "stream",
     "name": "stderr",
     "text": []
    },
    {
     "output_type": "stream",
     "name": "stdout",
     "text": [
      "\n",
      "Test Epoch 1: Average loss: 2.16758926, Accuracy: 6665/10000 (66.6500%)\n",
      "\n",
      "\n",
      "===================\n",
      "\n",
      "{'S_1': '0-11', 'S_2': '0-10-001-0110'}\n"
     ]
    },
    {
     "output_type": "stream",
     "name": "stderr",
     "text": []
    },
    {
     "output_type": "stream",
     "name": "stdout",
     "text": [
      "\n",
      "Test Epoch 1: Average loss: 0.86936532, Accuracy: 9879/10000 (98.7900%)\n",
      "\n",
      "\n",
      "===================\n",
      "\n",
      "{'S_1': '0-11', 'S_2': '0-10-001-0111'}\n"
     ]
    },
    {
     "output_type": "stream",
     "name": "stderr",
     "text": []
    },
    {
     "output_type": "stream",
     "name": "stdout",
     "text": [
      "\n",
      "Test Epoch 1: Average loss: 0.74779503, Accuracy: 9866/10000 (98.6600%)\n",
      "\n",
      "\n",
      "===================\n",
      "\n",
      "{'S_1': '0-11', 'S_2': '0-10-001-1000'}\n"
     ]
    },
    {
     "output_type": "stream",
     "name": "stderr",
     "text": []
    },
    {
     "output_type": "stream",
     "name": "stdout",
     "text": [
      "\n",
      "Test Epoch 1: Average loss: 0.04768962, Accuracy: 9856/10000 (98.5600%)\n",
      "\n",
      "\n",
      "===================\n",
      "\n",
      "{'S_1': '0-11', 'S_2': '0-10-001-1001'}\n"
     ]
    },
    {
     "output_type": "stream",
     "name": "stderr",
     "text": []
    },
    {
     "output_type": "stream",
     "name": "stdout",
     "text": [
      "\n",
      "Test Epoch 1: Average loss: 0.04521645, Accuracy: 9861/10000 (98.6100%)\n",
      "\n",
      "\n",
      "===================\n",
      "\n",
      "{'S_1': '0-11', 'S_2': '0-10-001-1010'}\n"
     ]
    },
    {
     "output_type": "stream",
     "name": "stderr",
     "text": []
    },
    {
     "output_type": "stream",
     "name": "stdout",
     "text": [
      "\n",
      "Test Epoch 1: Average loss: 0.04273591, Accuracy: 9874/10000 (98.7400%)\n",
      "\n",
      "\n",
      "===================\n",
      "\n",
      "{'S_1': '0-11', 'S_2': '0-10-001-1011'}\n"
     ]
    },
    {
     "output_type": "stream",
     "name": "stderr",
     "text": []
    },
    {
     "output_type": "stream",
     "name": "stdout",
     "text": [
      "\n",
      "Test Epoch 1: Average loss: 0.04144330, Accuracy: 9878/10000 (98.7800%)\n",
      "\n",
      "\n",
      "===================\n",
      "\n",
      "{'S_1': '0-11', 'S_2': '0-10-001-1100'}\n"
     ]
    },
    {
     "output_type": "stream",
     "name": "stderr",
     "text": []
    },
    {
     "output_type": "stream",
     "name": "stdout",
     "text": [
      "\n",
      "Test Epoch 1: Average loss: 0.04799990, Accuracy: 9857/10000 (98.5700%)\n",
      "\n",
      "\n",
      "===================\n",
      "\n",
      "{'S_1': '0-11', 'S_2': '0-10-001-1101'}\n"
     ]
    },
    {
     "output_type": "stream",
     "name": "stderr",
     "text": []
    },
    {
     "output_type": "stream",
     "name": "stdout",
     "text": [
      "\n",
      "Test Epoch 1: Average loss: 0.04553086, Accuracy: 9862/10000 (98.6200%)\n",
      "\n",
      "\n",
      "===================\n",
      "\n",
      "{'S_1': '0-11', 'S_2': '0-10-001-1110'}\n"
     ]
    },
    {
     "output_type": "stream",
     "name": "stderr",
     "text": []
    },
    {
     "output_type": "stream",
     "name": "stdout",
     "text": [
      "\n",
      "Test Epoch 1: Average loss: 0.04272882, Accuracy: 9873/10000 (98.7300%)\n",
      "\n",
      "\n",
      "===================\n",
      "\n",
      "{'S_1': '0-11', 'S_2': '0-10-001-1111'}\n"
     ]
    },
    {
     "output_type": "stream",
     "name": "stderr",
     "text": []
    },
    {
     "output_type": "stream",
     "name": "stdout",
     "text": [
      "\n",
      "Test Epoch 1: Average loss: 0.04144308, Accuracy: 9876/10000 (98.7600%)\n",
      "\n",
      "\n",
      "===================\n",
      "\n",
      "{'S_1': '0-11', 'S_2': '0-10-010-0000'}\n"
     ]
    },
    {
     "output_type": "stream",
     "name": "stderr",
     "text": []
    },
    {
     "output_type": "stream",
     "name": "stdout",
     "text": [
      "\n",
      "Test Epoch 1: Average loss: 2.42472910, Accuracy: 872/10000 (8.7200%)\n",
      "\n",
      "\n",
      "===================\n",
      "\n",
      "{'S_1': '0-11', 'S_2': '0-10-010-0001'}\n"
     ]
    },
    {
     "output_type": "stream",
     "name": "stderr",
     "text": []
    },
    {
     "output_type": "stream",
     "name": "stdout",
     "text": [
      "\n",
      "Test Epoch 1: Average loss: 2.42833872, Accuracy: 911/10000 (9.1100%)\n",
      "\n",
      "\n",
      "===================\n",
      "\n",
      "{'S_1': '0-11', 'S_2': '0-10-010-0010'}\n"
     ]
    },
    {
     "output_type": "stream",
     "name": "stderr",
     "text": []
    },
    {
     "output_type": "stream",
     "name": "stdout",
     "text": [
      "\n",
      "Test Epoch 1: Average loss: 0.69944195, Accuracy: 9857/10000 (98.5700%)\n",
      "\n",
      "\n",
      "===================\n",
      "\n",
      "{'S_1': '0-11', 'S_2': '0-10-010-0011'}\n"
     ]
    },
    {
     "output_type": "stream",
     "name": "stderr",
     "text": []
    },
    {
     "output_type": "stream",
     "name": "stdout",
     "text": [
      "\n",
      "Test Epoch 1: Average loss: 0.75342503, Accuracy: 9850/10000 (98.5000%)\n",
      "\n",
      "\n",
      "===================\n",
      "\n",
      "{'S_1': '0-11', 'S_2': '0-10-010-0100'}\n"
     ]
    },
    {
     "output_type": "stream",
     "name": "stderr",
     "text": []
    },
    {
     "output_type": "stream",
     "name": "stdout",
     "text": [
      "\n",
      "Test Epoch 1: Average loss: 2.43827145, Accuracy: 818/10000 (8.1800%)\n",
      "\n",
      "\n",
      "===================\n",
      "\n",
      "{'S_1': '0-11', 'S_2': '0-10-010-0101'}\n"
     ]
    },
    {
     "output_type": "stream",
     "name": "stderr",
     "text": []
    },
    {
     "output_type": "stream",
     "name": "stdout",
     "text": [
      "\n",
      "Test Epoch 1: Average loss: 2.43679566, Accuracy: 859/10000 (8.5900%)\n",
      "\n",
      "\n",
      "===================\n",
      "\n",
      "{'S_1': '0-11', 'S_2': '0-10-010-0110'}\n"
     ]
    },
    {
     "output_type": "stream",
     "name": "stderr",
     "text": []
    },
    {
     "output_type": "stream",
     "name": "stdout",
     "text": [
      "\n",
      "Test Epoch 1: Average loss: 0.79809521, Accuracy: 9857/10000 (98.5700%)\n",
      "\n",
      "\n",
      "===================\n",
      "\n",
      "{'S_1': '0-11', 'S_2': '0-10-010-0111'}\n"
     ]
    },
    {
     "output_type": "stream",
     "name": "stderr",
     "text": []
    },
    {
     "output_type": "stream",
     "name": "stdout",
     "text": [
      "\n",
      "Test Epoch 1: Average loss: 0.85326907, Accuracy: 9843/10000 (98.4300%)\n",
      "\n",
      "\n",
      "===================\n",
      "\n",
      "{'S_1': '0-11', 'S_2': '0-10-010-1000'}\n"
     ]
    },
    {
     "output_type": "stream",
     "name": "stderr",
     "text": []
    },
    {
     "output_type": "stream",
     "name": "stdout",
     "text": [
      "\n",
      "Test Epoch 1: Average loss: 0.04836351, Accuracy: 9855/10000 (98.5500%)\n",
      "\n",
      "\n",
      "===================\n",
      "\n",
      "{'S_1': '0-11', 'S_2': '0-10-010-1001'}\n"
     ]
    },
    {
     "output_type": "stream",
     "name": "stderr",
     "text": []
    },
    {
     "output_type": "stream",
     "name": "stdout",
     "text": [
      "\n",
      "Test Epoch 1: Average loss: 0.04865134, Accuracy: 9855/10000 (98.5500%)\n",
      "\n",
      "\n",
      "===================\n",
      "\n",
      "{'S_1': '0-11', 'S_2': '0-10-010-1010'}\n"
     ]
    },
    {
     "output_type": "stream",
     "name": "stderr",
     "text": []
    },
    {
     "output_type": "stream",
     "name": "stdout",
     "text": [
      "\n",
      "Test Epoch 1: Average loss: 0.04325302, Accuracy: 9872/10000 (98.7200%)\n",
      "\n",
      "\n",
      "===================\n",
      "\n",
      "{'S_1': '0-11', 'S_2': '0-10-010-1011'}\n"
     ]
    },
    {
     "output_type": "stream",
     "name": "stderr",
     "text": []
    },
    {
     "output_type": "stream",
     "name": "stdout",
     "text": [
      "\n",
      "Test Epoch 1: Average loss: 0.04330894, Accuracy: 9872/10000 (98.7200%)\n",
      "\n",
      "\n",
      "===================\n",
      "\n",
      "{'S_1': '0-11', 'S_2': '0-10-010-1100'}\n"
     ]
    },
    {
     "output_type": "stream",
     "name": "stderr",
     "text": []
    },
    {
     "output_type": "stream",
     "name": "stdout",
     "text": [
      "\n",
      "Test Epoch 1: Average loss: 0.04891042, Accuracy: 9854/10000 (98.5400%)\n",
      "\n",
      "\n",
      "===================\n",
      "\n",
      "{'S_1': '0-11', 'S_2': '0-10-010-1101'}\n"
     ]
    },
    {
     "output_type": "stream",
     "name": "stderr",
     "text": []
    },
    {
     "output_type": "stream",
     "name": "stdout",
     "text": [
      "\n",
      "Test Epoch 1: Average loss: 0.04925314, Accuracy: 9852/10000 (98.5200%)\n",
      "\n",
      "\n",
      "===================\n",
      "\n",
      "{'S_1': '0-11', 'S_2': '0-10-010-1110'}\n"
     ]
    },
    {
     "output_type": "stream",
     "name": "stderr",
     "text": []
    },
    {
     "output_type": "stream",
     "name": "stdout",
     "text": [
      "\n",
      "Test Epoch 1: Average loss: 0.04326990, Accuracy: 9874/10000 (98.7400%)\n",
      "\n",
      "\n",
      "===================\n",
      "\n",
      "{'S_1': '0-11', 'S_2': '0-10-010-1111'}\n"
     ]
    },
    {
     "output_type": "stream",
     "name": "stderr",
     "text": []
    },
    {
     "output_type": "stream",
     "name": "stdout",
     "text": [
      "\n",
      "Test Epoch 1: Average loss: 0.04334848, Accuracy: 9874/10000 (98.7400%)\n",
      "\n",
      "\n",
      "===================\n",
      "\n",
      "{'S_1': '0-11', 'S_2': '0-10-011-0000'}\n"
     ]
    },
    {
     "output_type": "stream",
     "name": "stderr",
     "text": []
    },
    {
     "output_type": "stream",
     "name": "stdout",
     "text": [
      "\n",
      "Test Epoch 1: Average loss: 2.32882376, Accuracy: 1179/10000 (11.7900%)\n",
      "\n",
      "\n",
      "===================\n",
      "\n",
      "{'S_1': '0-11', 'S_2': '0-10-011-0001'}\n"
     ]
    },
    {
     "output_type": "stream",
     "name": "stderr",
     "text": []
    },
    {
     "output_type": "stream",
     "name": "stdout",
     "text": [
      "\n",
      "Test Epoch 1: Average loss: 2.10456150, Accuracy: 7671/10000 (76.7100%)\n",
      "\n",
      "\n",
      "===================\n",
      "\n",
      "{'S_1': '0-11', 'S_2': '0-10-011-0010'}\n"
     ]
    },
    {
     "output_type": "stream",
     "name": "stderr",
     "text": []
    },
    {
     "output_type": "stream",
     "name": "stdout",
     "text": [
      "\n",
      "Test Epoch 1: Average loss: 0.75702215, Accuracy: 9878/10000 (98.7800%)\n",
      "\n",
      "\n",
      "===================\n",
      "\n",
      "{'S_1': '0-11', 'S_2': '0-10-011-0011'}\n"
     ]
    },
    {
     "output_type": "stream",
     "name": "stderr",
     "text": []
    },
    {
     "output_type": "stream",
     "name": "stdout",
     "text": [
      "\n",
      "Test Epoch 1: Average loss: 0.65436394, Accuracy: 9872/10000 (98.7200%)\n",
      "\n",
      "\n",
      "===================\n",
      "\n",
      "{'S_1': '0-11', 'S_2': '0-10-011-0100'}\n"
     ]
    },
    {
     "output_type": "stream",
     "name": "stderr",
     "text": []
    },
    {
     "output_type": "stream",
     "name": "stdout",
     "text": [
      "\n",
      "Test Epoch 1: Average loss: 2.33139287, Accuracy: 1288/10000 (12.8800%)\n",
      "\n",
      "\n",
      "===================\n",
      "\n",
      "{'S_1': '0-11', 'S_2': '0-10-011-0101'}\n"
     ]
    },
    {
     "output_type": "stream",
     "name": "stderr",
     "text": []
    },
    {
     "output_type": "stream",
     "name": "stdout",
     "text": [
      "\n",
      "Test Epoch 1: Average loss: 2.17398720, Accuracy: 6372/10000 (63.7200%)\n",
      "\n",
      "\n",
      "===================\n",
      "\n",
      "{'S_1': '0-11', 'S_2': '0-10-011-0110'}\n"
     ]
    },
    {
     "output_type": "stream",
     "name": "stderr",
     "text": []
    },
    {
     "output_type": "stream",
     "name": "stdout",
     "text": [
      "\n",
      "Test Epoch 1: Average loss: 0.86322122, Accuracy: 9877/10000 (98.7700%)\n",
      "\n",
      "\n",
      "===================\n",
      "\n",
      "{'S_1': '0-11', 'S_2': '0-10-011-0111'}\n"
     ]
    },
    {
     "output_type": "stream",
     "name": "stderr",
     "text": []
    },
    {
     "output_type": "stream",
     "name": "stdout",
     "text": [
      "\n",
      "Test Epoch 1: Average loss: 0.74389111, Accuracy: 9863/10000 (98.6300%)\n",
      "\n",
      "\n",
      "===================\n",
      "\n",
      "{'S_1': '0-11', 'S_2': '0-10-011-1000'}\n"
     ]
    },
    {
     "output_type": "stream",
     "name": "stderr",
     "text": []
    },
    {
     "output_type": "stream",
     "name": "stdout",
     "text": [
      "\n",
      "Test Epoch 1: Average loss: 0.04767687, Accuracy: 9856/10000 (98.5600%)\n",
      "\n",
      "\n",
      "===================\n",
      "\n",
      "{'S_1': '0-11', 'S_2': '0-10-011-1001'}\n"
     ]
    },
    {
     "output_type": "stream",
     "name": "stderr",
     "text": []
    },
    {
     "output_type": "stream",
     "name": "stdout",
     "text": [
      "\n",
      "Test Epoch 1: Average loss: 0.04541096, Accuracy: 9861/10000 (98.6100%)\n",
      "\n",
      "\n",
      "===================\n",
      "\n",
      "{'S_1': '0-11', 'S_2': '0-10-011-1010'}\n"
     ]
    },
    {
     "output_type": "stream",
     "name": "stderr",
     "text": []
    },
    {
     "output_type": "stream",
     "name": "stdout",
     "text": [
      "\n",
      "Test Epoch 1: Average loss: 0.04275287, Accuracy: 9874/10000 (98.7400%)\n",
      "\n",
      "\n",
      "===================\n",
      "\n",
      "{'S_1': '0-11', 'S_2': '0-10-011-1011'}\n"
     ]
    },
    {
     "output_type": "stream",
     "name": "stderr",
     "text": []
    },
    {
     "output_type": "stream",
     "name": "stdout",
     "text": [
      "\n",
      "Test Epoch 1: Average loss: 0.04159708, Accuracy: 9875/10000 (98.7500%)\n",
      "\n",
      "\n",
      "===================\n",
      "\n",
      "{'S_1': '0-11', 'S_2': '0-10-011-1100'}\n"
     ]
    },
    {
     "output_type": "stream",
     "name": "stderr",
     "text": []
    },
    {
     "output_type": "stream",
     "name": "stdout",
     "text": [
      "\n",
      "Test Epoch 1: Average loss: 0.04798485, Accuracy: 9857/10000 (98.5700%)\n",
      "\n",
      "\n",
      "===================\n",
      "\n",
      "{'S_1': '0-11', 'S_2': '0-10-011-1101'}\n"
     ]
    },
    {
     "output_type": "stream",
     "name": "stderr",
     "text": []
    },
    {
     "output_type": "stream",
     "name": "stdout",
     "text": [
      "\n",
      "Test Epoch 1: Average loss: 0.04572783, Accuracy: 9861/10000 (98.6100%)\n",
      "\n",
      "\n",
      "===================\n",
      "\n",
      "{'S_1': '0-11', 'S_2': '0-10-011-1110'}\n"
     ]
    },
    {
     "output_type": "stream",
     "name": "stderr",
     "text": []
    },
    {
     "output_type": "stream",
     "name": "stdout",
     "text": [
      "\n",
      "Test Epoch 1: Average loss: 0.04275339, Accuracy: 9873/10000 (98.7300%)\n",
      "\n",
      "\n",
      "===================\n",
      "\n",
      "{'S_1': '0-11', 'S_2': '0-10-011-1111'}\n"
     ]
    },
    {
     "output_type": "stream",
     "name": "stderr",
     "text": []
    },
    {
     "output_type": "stream",
     "name": "stdout",
     "text": [
      "\n",
      "Test Epoch 1: Average loss: 0.04160243, Accuracy: 9875/10000 (98.7500%)\n",
      "\n",
      "\n",
      "===================\n",
      "\n",
      "{'S_1': '0-11', 'S_2': '0-10-100-0000'}\n"
     ]
    },
    {
     "output_type": "stream",
     "name": "stderr",
     "text": []
    },
    {
     "output_type": "stream",
     "name": "stdout",
     "text": [
      "\n",
      "Test Epoch 1: Average loss: 2.69583679, Accuracy: 918/10000 (9.1800%)\n",
      "\n",
      "\n",
      "===================\n",
      "\n",
      "{'S_1': '0-11', 'S_2': '0-10-100-0001'}\n"
     ]
    },
    {
     "output_type": "stream",
     "name": "stderr",
     "text": []
    },
    {
     "output_type": "stream",
     "name": "stdout",
     "text": [
      "\n",
      "Test Epoch 1: Average loss: 0.94257734, Accuracy: 9563/10000 (95.6300%)\n",
      "\n",
      "\n",
      "===================\n",
      "\n",
      "{'S_1': '0-11', 'S_2': '0-10-100-0010'}\n"
     ]
    },
    {
     "output_type": "stream",
     "name": "stderr",
     "text": []
    },
    {
     "output_type": "stream",
     "name": "stdout",
     "text": [
      "\n",
      "Test Epoch 1: Average loss: 0.95051447, Accuracy: 9601/10000 (96.0100%)\n",
      "\n",
      "\n",
      "===================\n",
      "\n",
      "{'S_1': '0-11', 'S_2': '0-10-100-0011'}\n"
     ]
    },
    {
     "output_type": "stream",
     "name": "stderr",
     "text": []
    },
    {
     "output_type": "stream",
     "name": "stdout",
     "text": [
      "\n",
      "Test Epoch 1: Average loss: 0.18661255, Accuracy: 9877/10000 (98.7700%)\n",
      "\n",
      "\n",
      "===================\n",
      "\n",
      "{'S_1': '0-11', 'S_2': '0-10-100-0100'}\n"
     ]
    },
    {
     "output_type": "stream",
     "name": "stderr",
     "text": []
    },
    {
     "output_type": "stream",
     "name": "stdout",
     "text": [
      "\n",
      "Test Epoch 1: Average loss: 2.71163916, Accuracy: 931/10000 (9.3100%)\n",
      "\n",
      "\n",
      "===================\n",
      "\n",
      "{'S_1': '0-11', 'S_2': '0-10-100-0101'}\n"
     ]
    },
    {
     "output_type": "stream",
     "name": "stderr",
     "text": []
    },
    {
     "output_type": "stream",
     "name": "stdout",
     "text": [
      "\n",
      "Test Epoch 1: Average loss: 1.05503638, Accuracy: 9397/10000 (93.9700%)\n",
      "\n",
      "\n",
      "===================\n",
      "\n",
      "{'S_1': '0-11', 'S_2': '0-10-100-0110'}\n"
     ]
    },
    {
     "output_type": "stream",
     "name": "stderr",
     "text": []
    },
    {
     "output_type": "stream",
     "name": "stdout",
     "text": [
      "\n",
      "Test Epoch 1: Average loss: 1.07811156, Accuracy: 9419/10000 (94.1900%)\n",
      "\n",
      "\n",
      "===================\n",
      "\n",
      "{'S_1': '0-11', 'S_2': '0-10-100-0111'}\n"
     ]
    },
    {
     "output_type": "stream",
     "name": "stderr",
     "text": []
    },
    {
     "output_type": "stream",
     "name": "stdout",
     "text": [
      "\n",
      "Test Epoch 1: Average loss: 0.21205623, Accuracy: 9876/10000 (98.7600%)\n",
      "\n",
      "\n",
      "===================\n",
      "\n",
      "{'S_1': '0-11', 'S_2': '0-10-100-1000'}\n"
     ]
    },
    {
     "output_type": "stream",
     "name": "stderr",
     "text": []
    },
    {
     "output_type": "stream",
     "name": "stdout",
     "text": [
      "\n",
      "Test Epoch 1: Average loss: 0.05032428, Accuracy: 9854/10000 (98.5400%)\n",
      "\n",
      "\n",
      "===================\n",
      "\n",
      "{'S_1': '0-11', 'S_2': '0-10-100-1001'}\n"
     ]
    },
    {
     "output_type": "stream",
     "name": "stderr",
     "text": []
    },
    {
     "output_type": "stream",
     "name": "stdout",
     "text": [
      "\n",
      "Test Epoch 1: Average loss: 0.04156060, Accuracy: 9877/10000 (98.7700%)\n",
      "\n",
      "\n",
      "===================\n",
      "\n",
      "{'S_1': '0-11', 'S_2': '0-10-100-1010'}\n"
     ]
    },
    {
     "output_type": "stream",
     "name": "stderr",
     "text": []
    },
    {
     "output_type": "stream",
     "name": "stdout",
     "text": [
      "\n",
      "Test Epoch 1: Average loss: 0.04235244, Accuracy: 9872/10000 (98.7200%)\n",
      "\n",
      "\n",
      "===================\n",
      "\n",
      "{'S_1': '0-11', 'S_2': '0-10-100-1011'}\n"
     ]
    },
    {
     "output_type": "stream",
     "name": "stderr",
     "text": []
    },
    {
     "output_type": "stream",
     "name": "stdout",
     "text": [
      "\n",
      "Test Epoch 1: Average loss: 0.04127976, Accuracy: 9884/10000 (98.8400%)\n",
      "\n",
      "\n",
      "===================\n",
      "\n",
      "{'S_1': '0-11', 'S_2': '0-10-100-1100'}\n"
     ]
    },
    {
     "output_type": "stream",
     "name": "stderr",
     "text": []
    },
    {
     "output_type": "stream",
     "name": "stdout",
     "text": [
      "\n",
      "Test Epoch 1: Average loss: 0.05116856, Accuracy: 9848/10000 (98.4800%)\n",
      "\n",
      "\n",
      "===================\n",
      "\n",
      "{'S_1': '0-11', 'S_2': '0-10-100-1101'}\n"
     ]
    },
    {
     "output_type": "stream",
     "name": "stderr",
     "text": []
    },
    {
     "output_type": "stream",
     "name": "stdout",
     "text": [
      "\n",
      "Test Epoch 1: Average loss: 0.04166883, Accuracy: 9875/10000 (98.7500%)\n",
      "\n",
      "\n",
      "===================\n",
      "\n",
      "{'S_1': '0-11', 'S_2': '0-10-100-1110'}\n"
     ]
    },
    {
     "output_type": "stream",
     "name": "stderr",
     "text": []
    },
    {
     "output_type": "stream",
     "name": "stdout",
     "text": [
      "\n",
      "Test Epoch 1: Average loss: 0.04242284, Accuracy: 9871/10000 (98.7100%)\n",
      "\n",
      "\n",
      "===================\n",
      "\n",
      "{'S_1': '0-11', 'S_2': '0-10-100-1111'}\n"
     ]
    },
    {
     "output_type": "stream",
     "name": "stderr",
     "text": []
    },
    {
     "output_type": "stream",
     "name": "stdout",
     "text": [
      "\n",
      "Test Epoch 1: Average loss: 0.04114868, Accuracy: 9883/10000 (98.8300%)\n",
      "\n",
      "\n",
      "===================\n",
      "\n",
      "{'S_1': '0-11', 'S_2': '0-10-101-0000'}\n"
     ]
    },
    {
     "output_type": "stream",
     "name": "stderr",
     "text": []
    },
    {
     "output_type": "stream",
     "name": "stdout",
     "text": [
      "\n",
      "Test Epoch 1: Average loss: 2.57396620, Accuracy: 1115/10000 (11.1500%)\n",
      "\n",
      "\n",
      "===================\n",
      "\n",
      "{'S_1': '0-11', 'S_2': '0-10-101-0001'}\n"
     ]
    },
    {
     "output_type": "stream",
     "name": "stderr",
     "text": []
    },
    {
     "output_type": "stream",
     "name": "stdout",
     "text": [
      "\n",
      "Test Epoch 1: Average loss: 0.55602156, Accuracy: 9870/10000 (98.7000%)\n",
      "\n",
      "\n",
      "===================\n",
      "\n",
      "{'S_1': '0-11', 'S_2': '0-10-101-0010'}\n"
     ]
    },
    {
     "output_type": "stream",
     "name": "stderr",
     "text": []
    },
    {
     "output_type": "stream",
     "name": "stdout",
     "text": [
      "\n",
      "Test Epoch 1: Average loss: 0.99629844, Accuracy: 9455/10000 (94.5500%)\n",
      "\n",
      "\n",
      "===================\n",
      "\n",
      "{'S_1': '0-11', 'S_2': '0-10-101-0011'}\n"
     ]
    },
    {
     "output_type": "stream",
     "name": "stderr",
     "text": []
    },
    {
     "output_type": "stream",
     "name": "stdout",
     "text": [
      "\n",
      "Test Epoch 1: Average loss: 0.16706700, Accuracy: 9884/10000 (98.8400%)\n",
      "\n",
      "\n",
      "===================\n",
      "\n",
      "{'S_1': '0-11', 'S_2': '0-10-101-0100'}\n"
     ]
    },
    {
     "output_type": "stream",
     "name": "stderr",
     "text": []
    },
    {
     "output_type": "stream",
     "name": "stdout",
     "text": [
      "\n",
      "Test Epoch 1: Average loss: 2.58266394, Accuracy: 1132/10000 (11.3200%)\n",
      "\n",
      "\n",
      "===================\n",
      "\n",
      "{'S_1': '0-11', 'S_2': '0-10-101-0101'}\n"
     ]
    },
    {
     "output_type": "stream",
     "name": "stderr",
     "text": []
    },
    {
     "output_type": "stream",
     "name": "stdout",
     "text": [
      "\n",
      "Test Epoch 1: Average loss: 0.63610093, Accuracy: 9863/10000 (98.6300%)\n",
      "\n",
      "\n",
      "===================\n",
      "\n",
      "{'S_1': '0-11', 'S_2': '0-10-101-0110'}\n"
     ]
    },
    {
     "output_type": "stream",
     "name": "stderr",
     "text": []
    },
    {
     "output_type": "stream",
     "name": "stdout",
     "text": [
      "\n",
      "Test Epoch 1: Average loss: 1.12840356, Accuracy: 9189/10000 (91.8900%)\n",
      "\n",
      "\n",
      "===================\n",
      "\n",
      "{'S_1': '0-11', 'S_2': '0-10-101-0111'}\n"
     ]
    },
    {
     "output_type": "stream",
     "name": "stderr",
     "text": []
    },
    {
     "output_type": "stream",
     "name": "stdout",
     "text": [
      "\n",
      "Test Epoch 1: Average loss: 0.18950116, Accuracy: 9883/10000 (98.8300%)\n",
      "\n",
      "\n",
      "===================\n",
      "\n",
      "{'S_1': '0-11', 'S_2': '0-10-101-1000'}\n"
     ]
    },
    {
     "output_type": "stream",
     "name": "stderr",
     "text": []
    },
    {
     "output_type": "stream",
     "name": "stdout",
     "text": [
      "\n",
      "Test Epoch 1: Average loss: 0.04825534, Accuracy: 9864/10000 (98.6400%)\n",
      "\n",
      "\n",
      "===================\n",
      "\n",
      "{'S_1': '0-11', 'S_2': '0-10-101-1001'}\n"
     ]
    },
    {
     "output_type": "stream",
     "name": "stderr",
     "text": []
    },
    {
     "output_type": "stream",
     "name": "stdout",
     "text": [
      "\n",
      "Test Epoch 1: Average loss: 0.04067956, Accuracy: 9882/10000 (98.8200%)\n",
      "\n",
      "\n",
      "===================\n",
      "\n",
      "{'S_1': '0-11', 'S_2': '0-10-101-1010'}\n"
     ]
    },
    {
     "output_type": "stream",
     "name": "stderr",
     "text": []
    },
    {
     "output_type": "stream",
     "name": "stdout",
     "text": [
      "\n",
      "Test Epoch 1: Average loss: 0.04222824, Accuracy: 9875/10000 (98.7500%)\n",
      "\n",
      "\n",
      "===================\n",
      "\n",
      "{'S_1': '0-11', 'S_2': '0-10-101-1011'}\n"
     ]
    },
    {
     "output_type": "stream",
     "name": "stderr",
     "text": []
    },
    {
     "output_type": "stream",
     "name": "stdout",
     "text": [
      "\n",
      "Test Epoch 1: Average loss: 0.03994265, Accuracy: 9885/10000 (98.8500%)\n",
      "\n",
      "\n",
      "===================\n",
      "\n",
      "{'S_1': '0-11', 'S_2': '0-10-101-1100'}\n"
     ]
    },
    {
     "output_type": "stream",
     "name": "stderr",
     "text": []
    },
    {
     "output_type": "stream",
     "name": "stdout",
     "text": [
      "\n",
      "Test Epoch 1: Average loss: 0.04873972, Accuracy: 9862/10000 (98.6200%)\n",
      "\n",
      "\n",
      "===================\n",
      "\n",
      "{'S_1': '0-11', 'S_2': '0-10-101-1101'}\n"
     ]
    },
    {
     "output_type": "stream",
     "name": "stderr",
     "text": []
    },
    {
     "output_type": "stream",
     "name": "stdout",
     "text": [
      "\n",
      "Test Epoch 1: Average loss: 0.04070129, Accuracy: 9881/10000 (98.8100%)\n",
      "\n",
      "\n",
      "===================\n",
      "\n",
      "{'S_1': '0-11', 'S_2': '0-10-101-1110'}\n"
     ]
    },
    {
     "output_type": "stream",
     "name": "stderr",
     "text": []
    },
    {
     "output_type": "stream",
     "name": "stdout",
     "text": [
      "\n",
      "Test Epoch 1: Average loss: 0.04227608, Accuracy: 9875/10000 (98.7500%)\n",
      "\n",
      "\n",
      "===================\n",
      "\n",
      "{'S_1': '0-11', 'S_2': '0-10-101-1111'}\n"
     ]
    },
    {
     "output_type": "stream",
     "name": "stderr",
     "text": []
    },
    {
     "output_type": "stream",
     "name": "stdout",
     "text": [
      "\n",
      "Test Epoch 1: Average loss: 0.03978974, Accuracy: 9885/10000 (98.8500%)\n",
      "\n",
      "\n",
      "===================\n",
      "\n",
      "{'S_1': '0-11', 'S_2': '0-10-110-0000'}\n"
     ]
    },
    {
     "output_type": "stream",
     "name": "stderr",
     "text": []
    },
    {
     "output_type": "stream",
     "name": "stdout",
     "text": [
      "\n",
      "Test Epoch 1: Average loss: 2.69000614, Accuracy: 913/10000 (9.1300%)\n",
      "\n",
      "\n",
      "===================\n",
      "\n",
      "{'S_1': '0-11', 'S_2': '0-10-110-0001'}\n"
     ]
    },
    {
     "output_type": "stream",
     "name": "stderr",
     "text": []
    },
    {
     "output_type": "stream",
     "name": "stdout",
     "text": [
      "\n",
      "Test Epoch 1: Average loss: 0.95421415, Accuracy: 9553/10000 (95.5300%)\n",
      "\n",
      "\n",
      "===================\n",
      "\n",
      "{'S_1': '0-11', 'S_2': '0-10-110-0010'}\n"
     ]
    },
    {
     "output_type": "stream",
     "name": "stderr",
     "text": []
    },
    {
     "output_type": "stream",
     "name": "stdout",
     "text": [
      "\n",
      "Test Epoch 1: Average loss: 0.94092046, Accuracy: 9623/10000 (96.2300%)\n",
      "\n",
      "\n",
      "===================\n",
      "\n",
      "{'S_1': '0-11', 'S_2': '0-10-110-0011'}\n"
     ]
    },
    {
     "output_type": "stream",
     "name": "stderr",
     "text": []
    },
    {
     "output_type": "stream",
     "name": "stdout",
     "text": [
      "\n",
      "Test Epoch 1: Average loss: 0.18904172, Accuracy: 9876/10000 (98.7600%)\n",
      "\n",
      "\n",
      "===================\n",
      "\n",
      "{'S_1': '0-11', 'S_2': '0-10-110-0100'}\n"
     ]
    },
    {
     "output_type": "stream",
     "name": "stderr",
     "text": []
    },
    {
     "output_type": "stream",
     "name": "stdout",
     "text": [
      "\n",
      "Test Epoch 1: Average loss: 2.70576085, Accuracy: 934/10000 (9.3400%)\n",
      "\n",
      "\n",
      "===================\n",
      "\n",
      "{'S_1': '0-11', 'S_2': '0-10-110-0101'}\n"
     ]
    },
    {
     "output_type": "stream",
     "name": "stderr",
     "text": []
    },
    {
     "output_type": "stream",
     "name": "stdout",
     "text": [
      "\n",
      "Test Epoch 1: Average loss: 1.06745421, Accuracy: 9370/10000 (93.7000%)\n",
      "\n",
      "\n",
      "===================\n",
      "\n",
      "{'S_1': '0-11', 'S_2': '0-10-110-0110'}\n"
     ]
    },
    {
     "output_type": "stream",
     "name": "stderr",
     "text": []
    },
    {
     "output_type": "stream",
     "name": "stdout",
     "text": [
      "\n",
      "Test Epoch 1: Average loss: 1.06813090, Accuracy: 9457/10000 (94.5700%)\n",
      "\n",
      "\n",
      "===================\n",
      "\n",
      "{'S_1': '0-11', 'S_2': '0-10-110-0111'}\n"
     ]
    },
    {
     "output_type": "stream",
     "name": "stderr",
     "text": []
    },
    {
     "output_type": "stream",
     "name": "stdout",
     "text": [
      "\n",
      "Test Epoch 1: Average loss: 0.21499267, Accuracy: 9876/10000 (98.7600%)\n",
      "\n",
      "\n",
      "===================\n",
      "\n",
      "{'S_1': '0-11', 'S_2': '0-10-110-1000'}\n"
     ]
    },
    {
     "output_type": "stream",
     "name": "stderr",
     "text": []
    },
    {
     "output_type": "stream",
     "name": "stdout",
     "text": [
      "\n",
      "Test Epoch 1: Average loss: 0.05021758, Accuracy: 9854/10000 (98.5400%)\n",
      "\n",
      "\n",
      "===================\n",
      "\n",
      "{'S_1': '0-11', 'S_2': '0-10-110-1001'}\n"
     ]
    },
    {
     "output_type": "stream",
     "name": "stderr",
     "text": []
    },
    {
     "output_type": "stream",
     "name": "stdout",
     "text": [
      "\n",
      "Test Epoch 1: Average loss: 0.04166045, Accuracy: 9876/10000 (98.7600%)\n",
      "\n",
      "\n",
      "===================\n",
      "\n",
      "{'S_1': '0-11', 'S_2': '0-10-110-1010'}\n"
     ]
    },
    {
     "output_type": "stream",
     "name": "stderr",
     "text": []
    },
    {
     "output_type": "stream",
     "name": "stdout",
     "text": [
      "\n",
      "Test Epoch 1: Average loss: 0.04238990, Accuracy: 9870/10000 (98.7000%)\n",
      "\n",
      "\n",
      "===================\n",
      "\n",
      "{'S_1': '0-11', 'S_2': '0-10-110-1011'}\n"
     ]
    },
    {
     "output_type": "stream",
     "name": "stderr",
     "text": []
    },
    {
     "output_type": "stream",
     "name": "stdout",
     "text": [
      "\n",
      "Test Epoch 1: Average loss: 0.04135127, Accuracy: 9883/10000 (98.8300%)\n",
      "\n",
      "\n",
      "===================\n",
      "\n",
      "{'S_1': '0-11', 'S_2': '0-10-110-1100'}\n"
     ]
    },
    {
     "output_type": "stream",
     "name": "stderr",
     "text": []
    },
    {
     "output_type": "stream",
     "name": "stdout",
     "text": [
      "\n",
      "Test Epoch 1: Average loss: 0.05104280, Accuracy: 9852/10000 (98.5200%)\n",
      "\n",
      "\n",
      "===================\n",
      "\n",
      "{'S_1': '0-11', 'S_2': '0-10-110-1101'}\n"
     ]
    },
    {
     "output_type": "stream",
     "name": "stderr",
     "text": []
    },
    {
     "output_type": "stream",
     "name": "stdout",
     "text": [
      "\n",
      "Test Epoch 1: Average loss: 0.04177697, Accuracy: 9875/10000 (98.7500%)\n",
      "\n",
      "\n",
      "===================\n",
      "\n",
      "{'S_1': '0-11', 'S_2': '0-10-110-1110'}\n"
     ]
    },
    {
     "output_type": "stream",
     "name": "stderr",
     "text": []
    },
    {
     "output_type": "stream",
     "name": "stdout",
     "text": [
      "\n",
      "Test Epoch 1: Average loss: 0.04245679, Accuracy: 9870/10000 (98.7000%)\n",
      "\n",
      "\n",
      "===================\n",
      "\n",
      "{'S_1': '0-11', 'S_2': '0-10-110-1111'}\n"
     ]
    },
    {
     "output_type": "stream",
     "name": "stderr",
     "text": []
    },
    {
     "output_type": "error",
     "ename": "KeyboardInterrupt",
     "evalue": "",
     "traceback": [
      "\u001b[1;31m---------------------------------------------------------------------------\u001b[0m",
      "\u001b[1;31mKeyboardInterrupt\u001b[0m                         Traceback (most recent call last)",
      "\u001b[1;32m~\\AppData\\Local\\Temp/ipykernel_23884/3644417413.py\u001b[0m in \u001b[0;36m<module>\u001b[1;34m\u001b[0m\n\u001b[0;32m     22\u001b[0m                     \u001b[1;34m'model tuple'\u001b[0m\u001b[1;33m:\u001b[0m \u001b[0ma\u001b[0m\u001b[1;33m.\u001b[0m\u001b[0mStages\u001b[0m\u001b[1;33m.\u001b[0m\u001b[0mgen\u001b[0m\u001b[1;33m,\u001b[0m\u001b[1;33m\u001b[0m\u001b[1;33m\u001b[0m\u001b[0m\n\u001b[0;32m     23\u001b[0m                     \u001b[1;34m'gen'\u001b[0m\u001b[1;33m:\u001b[0m \u001b[0ma\u001b[0m\u001b[1;33m.\u001b[0m\u001b[0mStages\u001b[0m\u001b[1;33m.\u001b[0m\u001b[0mgen_model\u001b[0m\u001b[1;33m,\u001b[0m\u001b[1;33m\u001b[0m\u001b[1;33m\u001b[0m\u001b[0m\n\u001b[1;32m---> 24\u001b[1;33m                     \u001b[1;34m'test result'\u001b[0m\u001b[1;33m:\u001b[0m \u001b[1;33m(\u001b[0m\u001b[0mtest\u001b[0m\u001b[1;33m(\u001b[0m\u001b[0ma\u001b[0m\u001b[1;33m,\u001b[0m \u001b[0mdevice\u001b[0m\u001b[1;33m,\u001b[0m \u001b[0mtest_loader\u001b[0m\u001b[1;33m,\u001b[0m \u001b[0mF\u001b[0m\u001b[1;33m.\u001b[0m\u001b[0mnll_loss\u001b[0m\u001b[1;33m,\u001b[0m \u001b[1;36m1\u001b[0m\u001b[1;33m,\u001b[0m \u001b[1;32mTrue\u001b[0m\u001b[1;33m)\u001b[0m\u001b[1;33m)\u001b[0m\u001b[1;33m\u001b[0m\u001b[1;33m\u001b[0m\u001b[0m\n\u001b[0m\u001b[0;32m     25\u001b[0m                 }, ignore_index=True)\n\u001b[0;32m     26\u001b[0m             \u001b[0mdf\u001b[0m\u001b[1;33m.\u001b[0m\u001b[0mto_csv\u001b[0m\u001b[1;33m(\u001b[0m\u001b[1;34m'log.csv'\u001b[0m\u001b[1;33m,\u001b[0m \u001b[0mindex\u001b[0m\u001b[1;33m=\u001b[0m\u001b[1;32mFalse\u001b[0m\u001b[1;33m)\u001b[0m\u001b[1;33m\u001b[0m\u001b[1;33m\u001b[0m\u001b[0m\n",
      "\u001b[1;32mc:\\Users\\HH\\Downloads\\[Py]\\GeneticCNN-torch\\lib\\train_Individual.py\u001b[0m in \u001b[0;36mtest\u001b[1;34m(model, device, test_loader, loss_func, epoch, show)\u001b[0m\n\u001b[0;32m     26\u001b[0m     \u001b[1;32mwith\u001b[0m \u001b[0mtorch\u001b[0m\u001b[1;33m.\u001b[0m\u001b[0mno_grad\u001b[0m\u001b[1;33m(\u001b[0m\u001b[1;33m)\u001b[0m\u001b[1;33m:\u001b[0m\u001b[1;33m\u001b[0m\u001b[1;33m\u001b[0m\u001b[0m\n\u001b[0;32m     27\u001b[0m         \u001b[1;32mfor\u001b[0m \u001b[0mdata\u001b[0m\u001b[1;33m,\u001b[0m \u001b[0mtarget\u001b[0m \u001b[1;32min\u001b[0m \u001b[0mpbar\u001b[0m\u001b[1;33m:\u001b[0m\u001b[1;33m\u001b[0m\u001b[1;33m\u001b[0m\u001b[0m\n\u001b[1;32m---> 28\u001b[1;33m             \u001b[0mdata\u001b[0m\u001b[1;33m,\u001b[0m \u001b[0mtarget\u001b[0m \u001b[1;33m=\u001b[0m \u001b[0mdata\u001b[0m\u001b[1;33m.\u001b[0m\u001b[0mto\u001b[0m\u001b[1;33m(\u001b[0m\u001b[0mdevice\u001b[0m\u001b[1;33m)\u001b[0m\u001b[1;33m,\u001b[0m \u001b[0mtarget\u001b[0m\u001b[1;33m.\u001b[0m\u001b[0mto\u001b[0m\u001b[1;33m(\u001b[0m\u001b[0mdevice\u001b[0m\u001b[1;33m)\u001b[0m\u001b[1;33m\u001b[0m\u001b[1;33m\u001b[0m\u001b[0m\n\u001b[0m\u001b[0;32m     29\u001b[0m             \u001b[0moutput\u001b[0m \u001b[1;33m=\u001b[0m \u001b[0mmodel\u001b[0m\u001b[1;33m(\u001b[0m\u001b[0mdata\u001b[0m\u001b[1;33m)\u001b[0m\u001b[1;33m\u001b[0m\u001b[1;33m\u001b[0m\u001b[0m\n\u001b[0;32m     30\u001b[0m             \u001b[0mtest_loss\u001b[0m \u001b[1;33m+=\u001b[0m \u001b[0mloss_func\u001b[0m\u001b[1;33m(\u001b[0m\u001b[0moutput\u001b[0m\u001b[1;33m,\u001b[0m \u001b[0mtarget\u001b[0m\u001b[1;33m,\u001b[0m \u001b[0mreduction\u001b[0m\u001b[1;33m=\u001b[0m\u001b[1;34m'sum'\u001b[0m\u001b[1;33m)\u001b[0m\u001b[1;33m.\u001b[0m\u001b[0mitem\u001b[0m\u001b[1;33m(\u001b[0m\u001b[1;33m)\u001b[0m\u001b[1;33m\u001b[0m\u001b[1;33m\u001b[0m\u001b[0m\n",
      "\u001b[1;31mKeyboardInterrupt\u001b[0m: "
     ]
    }
   ],
   "metadata": {}
  }
 ]
}